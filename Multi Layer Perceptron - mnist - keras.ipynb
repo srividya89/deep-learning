{
 "cells": [
  {
   "cell_type": "code",
   "execution_count": 2,
   "id": "58b2fbcd-d4f4-42fc-b3ca-581d7323da19",
   "metadata": {},
   "outputs": [
    {
     "name": "stdout",
     "output_type": "stream",
     "text": [
      "Requirement already satisfied: keras in c:\\users\\welcome\\anaconda3\\envs\\mycorrectenv\\lib\\site-packages (2.14.0)\n"
     ]
    }
   ],
   "source": [
    "# mlp using keras for multiclass classification \n",
    "!pip install keras"
   ]
  },
  {
   "cell_type": "code",
   "execution_count": 3,
   "id": "abc73d55-d724-48a9-8b0c-37a787953c54",
   "metadata": {},
   "outputs": [],
   "source": [
    "import matplotlib.pyplot as plt\n",
    "from keras.layers import Dense, Flatten\n",
    "from keras.models import Sequential\n",
    "from keras.utils import to_categorical\n",
    "from keras.datasets import mnist\n",
    "from keras import utils\n",
    " "
   ]
  },
  {
   "cell_type": "code",
   "execution_count": 4,
   "id": "85aedead-f049-4058-8611-e4bfea2990d2",
   "metadata": {},
   "outputs": [],
   "source": [
    "        \n",
    "(X_train, y_train), (X_test, y_test) = mnist.load_data()"
   ]
  },
  {
   "cell_type": "code",
   "execution_count": 5,
   "id": "5990f8bb-93e9-4850-8425-6ad6516a8a18",
   "metadata": {},
   "outputs": [
    {
     "data": {
      "text/plain": [
       "(60000, 28, 28)"
      ]
     },
     "execution_count": 5,
     "metadata": {},
     "output_type": "execute_result"
    }
   ],
   "source": [
    "X_train.shape"
   ]
  },
  {
   "cell_type": "code",
   "execution_count": 6,
   "id": "3cdfb937-8505-4fe3-830c-c21522247d10",
   "metadata": {},
   "outputs": [
    {
     "data": {
      "text/plain": [
       "(60000,)"
      ]
     },
     "execution_count": 6,
     "metadata": {},
     "output_type": "execute_result"
    }
   ],
   "source": [
    "y_train.shape"
   ]
  },
  {
   "cell_type": "code",
   "execution_count": 7,
   "id": "7f09df0b-7198-44df-845b-3f6ff0112484",
   "metadata": {},
   "outputs": [
    {
     "data": {
      "text/plain": [
       "(10000, 28, 28)"
      ]
     },
     "execution_count": 7,
     "metadata": {},
     "output_type": "execute_result"
    }
   ],
   "source": [
    "X_test.shape"
   ]
  },
  {
   "cell_type": "code",
   "execution_count": 8,
   "id": "bed62da1-2c69-4643-bed3-e047701ff49b",
   "metadata": {},
   "outputs": [
    {
     "data": {
      "text/plain": [
       "(10000,)"
      ]
     },
     "execution_count": 8,
     "metadata": {},
     "output_type": "execute_result"
    }
   ],
   "source": [
    "y_test.shape"
   ]
  },
  {
   "cell_type": "code",
   "execution_count": 9,
   "id": "6bd0f386-73d7-4c81-928e-c033ecec9b2e",
   "metadata": {},
   "outputs": [
    {
     "data": {
      "image/png": "[encoded data removed]",
      "text/plain": [
       "<Figure size 2000x400 with 10 Axes>"
      ]
     },
     "metadata": {},
     "output_type": "display_data"
    }
   ],
   "source": [
    "fig, axes = plt.subplots(ncols=10, sharex=False, sharey=True, figsize=(20, 4))\n",
    "for i in range(10):\n",
    "    axes[i].set_title(y_train[i])\n",
    "    axes[i].imshow(X_train[i], cmap='gray')\n",
    "    axes[i].get_xaxis().set_visible(False)\n",
    "    axes[i].get_yaxis().set_visible(False)\n",
    "plt.show()"
   ]
  },
  {
   "cell_type": "code",
   "execution_count": 10,
   "id": "99ab558a-bc2b-48d9-9ba0-bb094dd548c8",
   "metadata": {},
   "outputs": [
    {
     "data": {
      "text/plain": [
       "array([5, 0, 4, ..., 5, 6, 8], dtype=uint8)"
      ]
     },
     "execution_count": 10,
     "metadata": {},
     "output_type": "execute_result"
    }
   ],
   "source": [
    "y_train"
   ]
  },
  {
   "cell_type": "code",
   "execution_count": 11,
   "id": "9569324e-306d-419a-9e84-37c9fcd98e7c",
   "metadata": {},
   "outputs": [
    {
     "data": {
      "text/plain": [
       "array([7, 2, 1, ..., 4, 5, 6], dtype=uint8)"
      ]
     },
     "execution_count": 11,
     "metadata": {},
     "output_type": "execute_result"
    }
   ],
   "source": [
    "y_test"
   ]
  },
  {
   "cell_type": "markdown",
   "id": "ad0739e8-65de-4b61-938b-5a473f920923",
   "metadata": {},
   "source": [
    "label value 3 will be converted into 10 dimensional output\n",
    "[0,0,0,1,0,0,0,0,0,0]   so we use to_categorical() method for this 10d output"
   ]
  },
  {
   "cell_type": "code",
   "execution_count": 12,
   "id": "5117a6da-9029-4d5c-bf58-82df23704c7f",
   "metadata": {},
   "outputs": [],
   "source": [
    "y_train = to_categorical(y_train)\n",
    "y_test = to_categorical(y_test)"
   ]
  },
  {
   "cell_type": "code",
   "execution_count": 13,
   "id": "1b7d687c-d189-411d-9ac4-85f44c0d203c",
   "metadata": {},
   "outputs": [
    {
     "data": {
      "text/plain": [
       "(60000, 10)"
      ]
     },
     "execution_count": 13,
     "metadata": {},
     "output_type": "execute_result"
    }
   ],
   "source": [
    "y_train.shape"
   ]
  },
  {
   "cell_type": "code",
   "execution_count": 14,
   "id": "e6847508-a111-4fb3-9e70-c62090b8dc65",
   "metadata": {},
   "outputs": [
    {
     "data": {
      "text/plain": [
       "(10000, 10)"
      ]
     },
     "execution_count": 14,
     "metadata": {},
     "output_type": "execute_result"
    }
   ],
   "source": [
    "y_test.shape"
   ]
  },
  {
   "cell_type": "code",
   "execution_count": 15,
   "id": "362ca59c-5ae8-4250-b057-fb315bb000e6",
   "metadata": {},
   "outputs": [],
   "source": [
    "model = Sequential()\n",
    "model.add(Flatten(input_shape=(28, 28)))\n",
    "model.add(Dense(10, activation='sigmoid'))\n",
    "model.add(Dense(5, activation='sigmoid'))\n",
    "model.add(Dense(10, activation='softmax'))"
   ]
  },
  {
   "cell_type": "code",
   "execution_count": 16,
   "id": "15e88549-f9d1-4d79-80ba-3c72f071f290",
   "metadata": {},
   "outputs": [
    {
     "name": "stdout",
     "output_type": "stream",
     "text": [
      "Model: \"sequential\"\n",
      "_________________________________________________________________\n",
      " Layer (type)                Output Shape              Param #   \n",
      "=================================================================\n",
      " flatten (Flatten)           (None, 784)               0         \n",
      "                                                                 \n",
      " dense (Dense)               (None, 10)                7850      \n",
      "                                                                 \n",
      " dense_1 (Dense)             (None, 5)                 55        \n",
      "                                                                 \n",
      " dense_2 (Dense)             (None, 10)                60        \n",
      "                                                                 \n",
      "=================================================================\n",
      "Total params: 7965 (31.11 KB)\n",
      "Trainable params: 7965 (31.11 KB)\n",
      "Non-trainable params: 0 (0.00 Byte)\n",
      "_________________________________________________________________\n"
     ]
    }
   ],
   "source": [
    "model.summary()"
   ]
  },
  {
   "cell_type": "code",
   "execution_count": 17,
   "id": "b42af13c-4c28-4c9c-816e-01367ab14a2b",
   "metadata": {},
   "outputs": [],
   "source": [
    "model.compile(loss='categorical_crossentropy',optimizer='adam',metrics=['acc'])"
   ]
  },
  {
   "cell_type": "code",
   "execution_count": 18,
   "id": "722e1a64-7b0d-401a-b1d2-4259eac2c41a",
   "metadata": {},
   "outputs": [
    {
     "name": "stdout",
     "output_type": "stream",
     "text": [
      "Epoch 1/20\n",
      "1875/1875 [==============================] - 15s 6ms/step - loss: 1.8190 - acc: 0.4382 - val_loss: 1.4488 - val_acc: 0.5550\n",
      "Epoch 2/20\n",
      "1875/1875 [==============================] - 11s 6ms/step - loss: 1.2253 - acc: 0.6762 - val_loss: 1.0131 - val_acc: 0.7499\n",
      "Epoch 3/20\n",
      "1875/1875 [==============================] - 11s 6ms/step - loss: 0.8961 - acc: 0.7702 - val_loss: 0.8354 - val_acc: 0.7963\n",
      "Epoch 4/20\n",
      "1875/1875 [==============================] - 11s 6ms/step - loss: 0.7484 - acc: 0.8001 - val_loss: 0.7201 - val_acc: 0.8030\n",
      "Epoch 5/20\n",
      "1875/1875 [==============================] - 11s 6ms/step - loss: 0.7033 - acc: 0.8007 - val_loss: 0.6575 - val_acc: 0.8138\n",
      "Epoch 6/20\n",
      "1875/1875 [==============================] - 11s 6ms/step - loss: 0.6763 - acc: 0.8038 - val_loss: 0.6489 - val_acc: 0.8146\n",
      "Epoch 7/20\n",
      "1875/1875 [==============================] - 11s 6ms/step - loss: 0.6544 - acc: 0.8060 - val_loss: 0.6220 - val_acc: 0.8200\n",
      "Epoch 8/20\n",
      "1875/1875 [==============================] - 11s 6ms/step - loss: 0.6427 - acc: 0.8093 - val_loss: 0.6657 - val_acc: 0.7980\n",
      "Epoch 9/20\n",
      "1875/1875 [==============================] - 12s 6ms/step - loss: 0.6268 - acc: 0.8143 - val_loss: 0.5881 - val_acc: 0.8259\n",
      "Epoch 10/20\n",
      "1875/1875 [==============================] - 15s 8ms/step - loss: 0.5916 - acc: 0.8280 - val_loss: 0.6084 - val_acc: 0.8205\n",
      "Epoch 11/20\n",
      "1875/1875 [==============================] - 15s 8ms/step - loss: 0.5920 - acc: 0.8263 - val_loss: 0.5742 - val_acc: 0.8295\n",
      "Epoch 12/20\n",
      "1875/1875 [==============================] - 15s 8ms/step - loss: 0.5817 - acc: 0.8308 - val_loss: 0.5711 - val_acc: 0.8358\n",
      "Epoch 13/20\n",
      "1875/1875 [==============================] - 12s 6ms/step - loss: 0.5709 - acc: 0.8333 - val_loss: 0.5788 - val_acc: 0.8316\n",
      "Epoch 14/20\n",
      "1875/1875 [==============================] - 11s 6ms/step - loss: 0.5808 - acc: 0.8308 - val_loss: 0.5676 - val_acc: 0.8401\n",
      "Epoch 15/20\n",
      "1875/1875 [==============================] - 19s 10ms/step - loss: 0.5713 - acc: 0.8308 - val_loss: 0.5526 - val_acc: 0.8475\n",
      "Epoch 16/20\n",
      "1875/1875 [==============================] - 17s 9ms/step - loss: 0.5467 - acc: 0.8392 - val_loss: 0.5293 - val_acc: 0.8409\n",
      "Epoch 17/20\n",
      "1875/1875 [==============================] - 13s 7ms/step - loss: 0.5420 - acc: 0.8413 - val_loss: 0.5278 - val_acc: 0.8593\n",
      "Epoch 18/20\n",
      "1875/1875 [==============================] - 10s 5ms/step - loss: 0.5550 - acc: 0.8370 - val_loss: 0.5233 - val_acc: 0.8546\n",
      "Epoch 19/20\n",
      "1875/1875 [==============================] - 8s 4ms/step - loss: 0.5274 - acc: 0.8502 - val_loss: 0.5389 - val_acc: 0.8536\n",
      "Epoch 20/20\n",
      "1875/1875 [==============================] - 8s 4ms/step - loss: 0.5284 - acc: 0.8483 - val_loss: 0.5273 - val_acc: 0.8533\n"
     ]
    },
    {
     "data": {
      "text/plain": [
       "<keras.src.callbacks.History at 0x1f70f62d990>"
      ]
     },
     "execution_count": 18,
     "metadata": {},
     "output_type": "execute_result"
    }
   ],
   "source": [
    "model.fit(X_train,y_train,epochs=20,validation_data=(X_test,y_test))"
   ]
  },
  {
   "cell_type": "code",
   "execution_count": 19,
   "id": "6b8d2852-38ef-4d0c-b9c4-c84c82071132",
   "metadata": {},
   "outputs": [
    {
     "name": "stdout",
     "output_type": "stream",
     "text": [
      "Requirement already satisfied: pydot in c:\\users\\welcome\\anaconda3\\envs\\mycorrectenv\\lib\\site-packages (4.0.1)Note: you may need to restart the kernel to use updated packages.\n",
      "\n",
      "Requirement already satisfied: pyparsing>=3.1.0 in c:\\users\\welcome\\anaconda3\\envs\\mycorrectenv\\lib\\site-packages (from pydot) (3.2.3)\n"
     ]
    }
   ],
   "source": [
    "pip install pydot\n"
   ]
  },
  {
   "cell_type": "code",
   "execution_count": 20,
   "id": "619eac71-4696-4abd-a554-fb265d05b61f",
   "metadata": {},
   "outputs": [
    {
     "name": "stdout",
     "output_type": "stream",
     "text": [
      "Requirement already satisfied: pydot in c:\\users\\welcome\\anaconda3\\envs\\mycorrectenv\\lib\\site-packages (4.0.1)\n",
      "Requirement already satisfied: pyparsing>=3.1.0 in c:\\users\\welcome\\anaconda3\\envs\\mycorrectenv\\lib\\site-packages (from pydot) (3.2.3)\n",
      "Note: you may need to restart the kernel to use updated packages.\n"
     ]
    }
   ],
   "source": [
    "pip install --upgrade pydot"
   ]
  },
  {
   "cell_type": "code",
   "execution_count": null,
   "id": "0eeb6db4-399d-4fea-9057-382fef4c26e8",
   "metadata": {},
   "outputs": [],
   "source": []
  },
  {
   "cell_type": "code",
   "execution_count": 21,
   "id": "7329fd1c-5235-474e-a012-d40a47db843e",
   "metadata": {},
   "outputs": [
    {
     "name": "stdout",
     "output_type": "stream",
     "text": [
      "C:\\Program Files\\Graphviz\\bin\\dot.EXE\n"
     ]
    }
   ],
   "source": [
    "import shutil\n",
    "print(shutil.which(\"dot\"))\n"
   ]
  },
  {
   "cell_type": "code",
   "execution_count": 22,
   "id": "1e1994bf-2544-42ec-938a-4eb681504692",
   "metadata": {},
   "outputs": [
    {
     "data": {
      "image/png": "[encoded data removed]",
      "text/plain": [
       "<IPython.core.display.Image object>"
      ]
     },
     "execution_count": 22,
     "metadata": {},
     "output_type": "execute_result"
    }
   ],
   "source": [
    "from tensorflow.keras.utils import plot_model\n",
    "plot_model(model, show_shapes=True, to_file=\"model.png\")\n"
   ]
  },
  {
   "cell_type": "code",
   "execution_count": 23,
   "id": "a78c31e4-c879-4069-b51e-345c700e0062",
   "metadata": {},
   "outputs": [
    {
     "data": {
      "image/png": "[encoded data removed]",
      "text/plain": [
       "<IPython.core.display.Image object>"
      ]
     },
     "execution_count": 23,
     "metadata": {},
     "output_type": "execute_result"
    }
   ],
   "source": [
    "utils.plot_model(model,show_shapes=True)"
   ]
  },
  {
   "cell_type": "code",
   "execution_count": 25,
   "id": "ed6abee0-388a-477b-95e5-f3e698e7b590",
   "metadata": {},
   "outputs": [],
   "source": [
    "model.save('mnist_model.keras')"
   ]
  },
  {
   "cell_type": "markdown",
   "id": "b37e732e-fa61-412b-a0a6-bd7e1fe403d6",
   "metadata": {},
   "source": [
    "HDF5 format (.h5):\n",
    "The older Keras format, widely used and still works. Example:\n",
    "\n",
    "model.save(\"model.h5\")\n",
    "\n",
    "\n",
    "New Keras format (.keras):\n",
    "The recommended modern format, designed for better long-term support and easier compatibility. Example:\n",
    "\n",
    "model.save(\"my_model.keras\")\n",
    "\n",
    "\n",
    "Both will save your model completely (architecture + weights + training config).\n",
    "The difference is just which serialization format is used.\n",
    "\n",
    "✅ If you’re just experimenting, you can ignore the warning.\n",
    "🚀 If you want to follow best practice, switch to the new format:\n",
    "\n",
    "# Save\n",
    "model.save(\"my_model.keras\")\n",
    "\n",
    "# Load later\n",
    "from tensorflow import keras\n",
    "model = keras.models.load_model(\"my_model.keras\")"
   ]
  },
  {
   "cell_type": "code",
   "execution_count": 27,
   "id": "6bb447ad-eaf1-4c96-9f8a-626d1aae3078",
   "metadata": {},
   "outputs": [
    {
     "data": {
      "text/plain": [
       "<keras.src.engine.sequential.Sequential at 0x1f70f6ef4f0>"
      ]
     },
     "execution_count": 27,
     "metadata": {},
     "output_type": "execute_result"
    }
   ],
   "source": [
    "from tensorflow import keras \n",
    "model = keras.models.load_model(\"mnist_model.keras\")\n",
    "\n",
    "model"
   ]
  },
  {
   "cell_type": "markdown",
   "id": "3e42a373-b8dc-4933-bff0-5fbf908cbdb3",
   "metadata": {},
   "source": [
    "notes\n",
    "\n",
    "That means Graphviz is not installed OR its bin folder is not added to your PATH, so pydot cannot find the dot executable.\n",
    "\n",
    "✅ Fix on Windows (step by step):\n",
    "\n",
    "Install Graphviz\n",
    "\n",
    "Download from: https://graphviz.gitlab.io/download/\n",
    "\n",
    "Pick the Windows installer (64-bit recommended).\n",
    "\n",
    "Install it (default location:\n",
    "\n",
    "C:\\Program Files\\Graphviz\\bin\n",
    "\n",
    "\n",
    "Add Graphviz to PATH\n",
    "\n",
    "Open Start Menu → Edit system environment variables.\n",
    "\n",
    "Click Environment Variables.\n",
    "\n",
    "Under System variables, select Path → Edit.\n",
    "\n",
    "Add this entry:\n",
    "\n",
    "C:\\Program Files\\Graphviz\\bin\n",
    "\n",
    "\n",
    "Save and restart your terminal/IDE (important).\n",
    "\n",
    "Verify installation\n",
    "\n",
    "Open Command Prompt (cmd.exe) and run:\n",
    "\n",
    "dot -V\n",
    "\n",
    "\n",
    "Expected output:\n",
    "\n",
    "dot - graphviz version 8.x (some version number)\n",
    "\n",
    "\n",
    "Re-run your Python code\n",
    "\n",
    "from tensorflow.keras.utils import plot_model\n",
    "\n",
    "plot_model(model, show_shapes=True, to_file=\"model.png\")\n",
    "\n",
    "\n",
    "⚡ About this part:\n",
    "\n",
    "AttributeError: module 'pydot' has no attribute 'InvocationException'\n",
    "\n",
    "\n",
    "That happens because of a pydot version mismatch. To fix:\n",
    "\n",
    "pip install --upgrade pydot\n",
    "\n",
    "\n",
    "👉 So, two fixes are needed:\n",
    "\n",
    "Install Graphviz (and add to PATH).\n",
    "\n",
    "Upgrade pydot to latest.\n",
    "\n",
    "Do you want me to also give you the exact winget command so you can install Graphviz in Windows Terminal instead of downloading manually?\n",
    "\n",
    "You said:\n",
    "still shows same errror\n",
    "ChatGPT said:\n",
    "\n",
    "Got it 👍 Thanks for confirming — since you already installed Graphviz and added it to PATH, but still see\n",
    "\n",
    "FileNotFoundError: [WinError 2] \"dot\" not found in path.\n",
    "\n",
    "\n",
    "that means Python (pydot) still cannot locate the dot.exe.\n",
    "\n",
    "Let’s fix this systematically:\n",
    "\n",
    "✅ Step 1: Check Graphviz installation\n",
    "\n",
    "Open Windows CMD / PowerShell and run:\n",
    "\n",
    "where dot\n",
    "\n",
    "\n",
    "If it prints something like:\n",
    "\n",
    "C:\\Program Files\\Graphviz\\bin\\dot.exe\n",
    "\n",
    "\n",
    "→ good, Graphviz is installed and visible.\n",
    "\n",
    "If it says:\n",
    "\n",
    "INFO: Could not find files for the given pattern(s).\n",
    "\n",
    "\n",
    "→ PATH is not set correctly.\n",
    "\n",
    "✅ Step 2: Fix PATH manually\n",
    "\n",
    "If where dot fails, add the correct path:\n",
    "\n",
    "Find where Graphviz is installed. (Usually: C:\\Program Files\\Graphviz\\bin)\n",
    "You should see dot.exe inside that folder.\n",
    "\n",
    "Add it to PATH:\n",
    "\n",
    "Open Start Menu → Edit system environment variables\n",
    "\n",
    "Click Environment Variables\n",
    "\n",
    "Under System variables, edit Path → Add:\n",
    "\n",
    "C:\\Program Files\\Graphviz\\bin\n",
    "\n",
    "\n",
    "Restart your terminal / Jupyter Notebook.\n",
    "\n",
    "✅ Step 3: Upgrade pydot (fixes InvocationException issue)\n",
    "\n",
    "Run:\n",
    "\n",
    "pip install --upgrade pydot\n",
    "\n",
    "✅ Step 4: Test inside Python\n",
    "\n",
    "Run:\n",
    "\n",
    "import shutil\n",
    "print(shutil.which(\"dot\"))\n",
    "\n",
    "\n",
    "If it prints a full path (C:\\Program Files\\Graphviz\\bin\\dot.exe) → success.\n",
    "\n",
    "If it prints None → PATH still not fixed.\n",
    "\n",
    "✅ Step 5: Plot model again\n",
    "from tensorflow.keras.utils import plot_model\n",
    "\n",
    "plot_model(model, show_shapes=True, to_file=\"model.png\")\n",
    "\n",
    "\n",
    "⚡ Question for you:\n",
    "When you run where dot in Windows Terminal, what output do you get? That will tell us whether it’s a PATH problem or a Python/pydot problem.\n",
    "\n",
    "Perfect 👍 that explains everything — since shutil.which(\"dot\") shows None, your PATH is not actually set for Graphviz. Python (and pydot) literally can’t find dot.exe.\n",
    "\n",
    "Let’s fix it cleanly:\n",
    "\n",
    "🔧 Step 1: Find where Graphviz installed\n",
    "\n",
    "Open File Explorer.\n",
    "\n",
    "Navigate to:\n",
    "\n",
    "C:\\Program Files\\\n",
    "\n",
    "\n",
    "Look for a folder named Graphviz, Graphviz8, or similar.\n",
    "\n",
    "Inside it, open bin → make sure you see dot.exe there.\n",
    "Example path:\n",
    "\n",
    "C:\\Program Files\\Graphviz\\bin\\dot.exe\n",
    "\n",
    "🔧 Step 2: Add Graphviz to PATH\n",
    "\n",
    "Press Win + R, type:\n",
    "\n",
    "sysdm.cpl\n",
    "\n",
    "\n",
    "→ Enter.\n",
    "\n",
    "Go to Advanced → Environment Variables.\n",
    "\n",
    "In System variables, find Path → Edit.\n",
    "\n",
    "Click New, then paste the folder path (not dot.exe, only bin folder), e.g.:\n",
    "\n",
    "C:\\Program Files\\Graphviz\\bin\n",
    "\n",
    "\n",
    "Click OK until all dialogs close.\n",
    "\n",
    "Restart your terminal / Anaconda Prompt.\n",
    "\n",
    "🔧 Step 3: Verify\n",
    "\n",
    "Open Command Prompt and run:\n",
    "\n",
    "where dot\n",
    "\n",
    "\n",
    "Expected:\n",
    "\n",
    "C:\\Program Files\\Graphviz\\bin\\dot.exe\n",
    "\n",
    "\n",
    "Then in Python:\n",
    "\n",
    "import shutil\n",
    "print(shutil.which(\"dot\"))\n",
    "\n",
    "\n",
    "Expected:\n",
    "\n",
    "C:\\Program Files\\Graphviz\\bin\\dot.exe\n",
    "\n",
    "🔧 Step 4: Retry plot_model\n",
    "from tensorflow.keras.utils import plot_model\n",
    "plot_model(model, to_file=\"model.png\", show_shapes=True)\n",
    "\n",
    "\n",
    "⚡ If you want to skip the manual PATH edits, you can also install Graphviz via Windows package manager in PowerShell:\n",
    "\n",
    "winget install graphviz\n",
    "\n",
    "\n",
    "This will auto-handle PATH for you.\n",
    "Nice — that output means Graphviz is already installed on your system via winget ✅.\n",
    "\n",
    "But since shutil.which(\"dot\") was still returning None, the problem is that its install location isn’t in PATH.\n",
    "\n",
    "🔎 Step 1: Locate Graphviz installed by winget\n",
    "\n",
    "Run this in PowerShell to find where it’s installed:\n",
    "\n",
    "winget show graphviz\n",
    "\n",
    "\n",
    "Or search manually:\n",
    "\n",
    "Get-Command dot.exe\n",
    "\n",
    "\n",
    "This will show the full path to dot.exe.\n",
    "\n",
    "🔧 Step 2: Add that path to PATH\n",
    "\n",
    "If dot.exe is found at something like:\n",
    "\n",
    "C:\\Users\\Welcome\\AppData\\Local\\Microsoft\\WinGet\\Packages\\Graphviz.Graphviz_Microsoft.Winget.Source\\bin\\dot.exe\n",
    "\n",
    "\n",
    "then add its bin folder (the part before dot.exe) to your PATH:\n",
    "\n",
    "C:\\Users\\Welcome\\AppData\\Local\\Microsoft\\WinGet\\Packages\\Graphviz.Graphviz_Microsoft.Winget.Source\\bin\n",
    "\n",
    "🔎 Step 3: Verify\n",
    "\n",
    "Close & reopen your terminal, then run:\n",
    "\n",
    "where.exe dot\n",
    "\n",
    "\n",
    "You should see the full path.\n",
    "\n",
    "Then in Python:\n",
    "\n",
    "import shutil\n",
    "print(shutil.which(\"dot\"))\n",
    "\n",
    "\n",
    "It should no longer be None.\n",
    "\n",
    "\n",
    "Perfect 👍 this confirms that Graphviz is installed, but Windows doesn’t know where it is (PATH not set). That’s why Python and pydot keep failing with \"dot not found\".\n",
    "\n",
    "Let’s fix this once and for all 🚀\n",
    "\n",
    "🔎 Step 1: Find Graphviz manually\n",
    "\n",
    "Since winget installed it, the usual location is one of these:\n",
    "\n",
    "C:\\Program Files\\Graphviz\\bin\n",
    "\n",
    "C:\\Program Files (x86)\\Graphviz\\bin\n",
    "\n",
    "C:\\Users\\<YourUser>\\AppData\\Local\\Microsoft\\WinGet\\Packages\\Graphviz.Graphviz*\\bin\n",
    "\n",
    "👉 Open File Explorer and search for dot.exe in your C: drive.\n",
    "Once you find it, copy the folder path (the one containing dot.exe).\n",
    "\n",
    "🔧 Step 2: Add Graphviz to PATH\n",
    "\n",
    "Press Win + R, type:\n",
    "\n",
    "sysdm.cpl\n",
    "\n",
    "\n",
    "→ Enter.\n",
    "\n",
    "Go to Advanced → Environment Variables.\n",
    "\n",
    "Under System variables, select Path → Edit.\n",
    "\n",
    "Click New, then paste the folder path from Step 1.\n",
    "Example:\n",
    "\n",
    "C:\\Program Files\\Graphviz\\bin\n",
    "\n",
    "\n",
    "Save → OK → OK → Restart your terminal (or Anaconda Prompt).\n",
    "\n",
    "🔎 Step 3: Verify\n",
    "\n",
    "In PowerShell / CMD, run:\n",
    "\n",
    "where dot\n",
    "\n",
    "\n",
    "Expected output:\n",
    "\n",
    "C:\\Program Files\\Graphviz\\bin\\dot.exe\n",
    "\n",
    "\n",
    "Then in Python:\n",
    "\n",
    "import shutil\n",
    "print(shutil.which(\"dot\"))\n",
    "\n",
    "\n",
    "Should return the full path instead of None.\n",
    "\n",
    "⚡ Once that works, plot_model will run fine.\n",
    "\n",
    "👉 Do you want me to give you a PowerShell command that searches for dot.exe automatically and tells you its location, so you don’t have to dig manually in File Explorer?\n",
    "\n",
    "You said:\n",
    "yes\n",
    "ChatGPT said:\n",
    "\n",
    "Great 👍 here’s a PowerShell command that will automatically search your whole C: drive for dot.exe and show you where it is installed:\n",
    "\n",
    "Get-ChildItem -Path C:\\ -Filter dot.exe -Recurse -ErrorAction SilentlyContinue -Force\n",
    "\n",
    "\n",
    "⚡ Notes:\n",
    "\n",
    "This may take a minute since it searches all folders.\n",
    "\n",
    "When it finds dot.exe, it will print the full path.\n",
    "Example:\n",
    "\n",
    "C:\\Program Files\\Graphviz\\bin\\dot.exe\n",
    "\n",
    "After you find it:\n",
    "\n",
    "Copy the folder path (everything before dot.exe).\n",
    "Example:\n",
    "\n",
    "C:\\Program Files\\Graphviz\\bin\n",
    "\n",
    "\n",
    "Add that folder to your PATH (via Environment Variables).\n",
    "\n",
    "Restart your terminal, then check:\n",
    "\n",
    "where dot\n",
    "\n",
    "\n",
    "→ Should show the full path.\n",
    "\n",
    "Test in Python:\n",
    "\n",
    "import shutil\n",
    "print(shutil.which(\"dot\"))\n",
    "\n",
    "\n",
    "→ Should now show the correct location.\n",
    "\n",
    "👉 Do you want me to also give you a one-liner PowerShell script that not only finds dot.exe but also adds it to PATH automatically so you don’t have to do the clicks?\n",
    "\n",
    "You said:\n",
    "import shutil\n",
    "print(shutil.which(\"dot\"))    shows none value\n",
    "ChatGPT said:\n",
    "\n",
    "Thanks for checking 🙏 — if print(shutil.which(\"dot\")) still shows None, it means:\n",
    "\n",
    "Graphviz is installed, but\n",
    "\n",
    "Windows PATH doesn’t yet include the folder that contains dot.exe.\n",
    "\n",
    "Let’s automate the fix.\n",
    "\n",
    "🔎 Step 1: Auto-locate Graphviz\n",
    "\n",
    "Run this in PowerShell:\n",
    "\n",
    "Get-ChildItem -Path \"C:\\\" -Filter dot.exe -Recurse -ErrorAction SilentlyContinue -Force\n",
    "\n",
    "\n",
    "This will search your C: drive for dot.exe and show the full path.\n",
    "Example output:\n",
    "\n",
    "C:\\Program Files\\Graphviz\\bin\\dot.exe\n",
    "\n",
    "🔧 Step 2: Add Graphviz to PATH (Automatic PowerShell Method)\n",
    "\n",
    "Once you know the folder (say C:\\Program Files\\Graphviz\\bin), run:\n",
    "\n",
    "setx PATH \"$env:PATH;C:\\Program Files\\Graphviz\\bin\"\n",
    "\n",
    "\n",
    "⚠️ Replace the path above with the actual folder that contains dot.exe.\n",
    "\n",
    "Then restart your PowerShell / Anaconda Prompt.\n",
    "\n",
    "🔎 Step 3: Verify\n",
    "\n",
    "In PowerShell:\n",
    "\n",
    "where dot\n",
    "\n",
    "\n",
    "Expected:\n",
    "\n",
    "C:\\Program Files\\Graphviz\\bin\\dot.exe\n",
    "\n",
    "\n",
    "In Python:\n",
    "\n",
    "import shutil\n",
    "print(shutil.which(\"dot\"))\n",
    "\n",
    "\n",
    "Expected:\n",
    "\n",
    "C:\\Program Files\\Graphviz\\bin\\dot.exe\n",
    "\n",
    "\n",
    "⚡ Question: Do you want me to write you a single PowerShell script that (1) finds dot.exe, (2) automatically adds it to PATH, and (3) confirms the fix — so you don’t have to do anything manually?\n",
    "\n",
    "You said:\n",
    "where dot doesnt give any result\n",
    "ChatGPT said:\n",
    "\n",
    "Got it 👍 — if where dot gives no result, Windows still cannot see any dot.exe on PATH. That means either:\n",
    "\n",
    "Graphviz was not actually installed, or\n",
    "\n",
    "It installed, but in a folder not linked to PATH.\n",
    "\n",
    "Let’s track it down step by step.\n",
    "\n",
    "🔎 Step 1: Search for Graphviz manually\n",
    "\n",
    "Run this PowerShell command (it might take 1–2 minutes but it will find it if installed):\n",
    "\n",
    "Get-ChildItem -Path \"C:\\\" -Filter dot.exe -Recurse -ErrorAction SilentlyContinue -Force\n",
    "\n",
    "\n",
    "This will scan your whole C: drive for dot.exe.\n",
    "If Graphviz is installed, you should see output like:\n",
    "\n",
    "C:\\Program Files\\Graphviz\\bin\\dot.exe\n",
    "\n",
    "🔎 Step 2: If no results\n",
    "\n",
    "If the above search finds nothing, then Graphviz is not installed at all (winget may have failed silently).\n",
    "\n",
    "👉 In that case, reinstall with:\n",
    "\n",
    "winget install --id=Graphviz.Graphviz -e --source winget\n",
    "\n",
    "\n",
    "This will install the latest Graphviz properly.\n",
    "\n",
    "🔧 Step 3: Add to PATH\n",
    "\n",
    "If Step 1 finds dot.exe, copy the folder path (not the exe). Example:\n",
    "\n",
    "C:\\Program Files\\Graphviz\\bin\n",
    "\n",
    "\n",
    "Then add it to PATH with:\n",
    "\n",
    "setx PATH \"$env:PATH;C:\\Program Files\\Graphviz\\bin\"\n",
    "\n",
    "\n",
    "(Replace with your actual path!)\n",
    "\n",
    "Restart terminal after this.\n",
    "\n",
    "✅ Step 4: Verify\n",
    "\n",
    "Now check again:\n",
    "\n",
    "where dot\n",
    "\n",
    "\n",
    "Then in Python:\n",
    "\n",
    "import shutil\n",
    "print(shutil.which(\"dot\"))\n",
    "\n",
    "\n",
    "⚡ Question: Do you want me to give you a ready-to-run script that will (1) search for Graphviz, (2) install it if missing, and (3) set PATH automatically — all in one PowerShell run?\n",
    "\n",
    "You said:\n",
    "which terminal and how should i restart\n",
    "ChatGPT said:\n",
    "\n",
    "Great question 🙌 — because on Windows you may have multiple terminals (CMD, PowerShell, Anaconda Prompt, VS Code terminal, Jupyter, etc.), and PATH changes only apply after a restart of the terminal/IDE.\n",
    "\n",
    "Here’s how to handle it step by step:\n",
    "\n",
    "✅ 1. Which terminal?\n",
    "\n",
    "Since you’re running Python in Anaconda (env: mycorrectenv), the important ones are:\n",
    "\n",
    "Anaconda Prompt (or Anaconda PowerShell Prompt) → where you launch Python/Jupyter.\n",
    "\n",
    "VS Code Terminal (if you start Python/Jupyter from there).\n",
    "\n",
    "Jupyter Notebook / JupyterLab (if launched via Anaconda).\n",
    "\n",
    "✅ 2. How to restart\n",
    "\n",
    "After you add Graphviz’s bin folder to PATH:\n",
    "\n",
    "Close all open terminals (CMD, PowerShell, Anaconda Prompt, VS Code, Jupyter).\n",
    "\n",
    "Reopen the one you normally use (e.g., Anaconda Prompt).\n",
    "\n",
    "Then activate your env again:\n",
    "\n",
    "conda activate mycorrectenv\n",
    "\n",
    "✅ 3. Verify PATH is applied\n",
    "\n",
    "Now run in the same terminal:\n",
    "\n",
    "where dot\n",
    "\n",
    "\n",
    "If PATH was applied correctly, you’ll see:\n",
    "\n",
    "C:\\Program Files\\Graphviz\\bin\\dot.exe\n",
    "\n",
    "\n",
    "And in Python:\n",
    "\n",
    "import shutil\n",
    "print(shutil.which(\"dot\"))\n",
    "\n",
    "\n",
    "Should show the same.\n",
    "\n",
    "⚡ Tip: If it still doesn’t show up, restart your whole PC once — that guarantees the new PATH is loaded everywhere.\n",
    "\n",
    "👉 Do you want me to give you a PowerShell snippet that confirms the exact PATH your current terminal sees? That way we can double-check if the Graphviz folder is really there.\n",
    "\n",
    "You said:\n",
    "where dot    import shutil\n",
    "print(shutil.which(\"dot\"))     doesnt give any result\n",
    "ChatGPT said:\n",
    "\n",
    "Thanks 🙏 — if both\n",
    "\n",
    "where dot\n",
    "\n",
    "\n",
    "and\n",
    "\n",
    "import shutil\n",
    "print(shutil.which(\"dot\"))\n",
    "\n",
    "\n",
    "return nothing, then Windows still doesn’t know where dot.exe is.\n",
    "\n",
    "That means one of two things is true:\n",
    "\n",
    "Graphviz never actually installed (winget didn’t put it in a usable location), or\n",
    "\n",
    "It installed, but to a folder not in PATH, and we haven’t found it yet.\n",
    "\n",
    "🔎 Step 1: Confirm whether Graphviz is installed at all\n",
    "\n",
    "Run this in PowerShell (it’s faster than a blind search of C:):\n",
    "\n",
    "winget list --id Graphviz.Graphviz\n",
    "\n",
    "\n",
    "If you see something like Graphviz 8.x, then it’s installed.\n",
    "\n",
    "If you see no results, then Graphviz is missing.\n",
    "\n",
    "🔎 Step 2: If Graphviz is installed → find dot.exe\n",
    "\n",
    "Run this (may take 1–2 minutes but guaranteed to find it):\n",
    "\n",
    "Get-ChildItem -Path \"C:\\\" -Filter dot.exe -Recurse -ErrorAction SilentlyContinue -Force\n",
    "\n",
    "\n",
    "That will print the exact folder containing dot.exe.\n",
    "\n",
    "🔧 Step 3: Add folder to PATH\n",
    "\n",
    "Once you find it (say it’s here):\n",
    "\n",
    "C:\\Program Files\\Graphviz\\bin\\dot.exe\n",
    "\n",
    "\n",
    "You add this to PATH (folder only, not the exe):\n",
    "\n",
    "setx PATH \"$env:PATH;C:\\Program Files\\Graphviz\\bin\"\n",
    "\n",
    "\n",
    "Then close your terminal (Anaconda Prompt, PowerShell, VS Code) and reopen.\n",
    "\n",
    "🔎 Step 4: Verify again\n",
    "\n",
    "In new terminal:\n",
    "\n",
    "where dot\n",
    "\n",
    "\n",
    "In Python:\n",
    "\n",
    "import shutil\n",
    "print(shutil.which(\"dot\"))\n",
    "\n",
    "\n",
    "Both should return the path.\n",
    "\n",
    "⚡ If Step 1 shows Graphviz is not installed, then we should reinstall it cleanly.\n",
    "You can do either:\n",
    "\n",
    "Option A (winget):\n",
    "\n",
    "winget install --id=Graphviz.Graphviz -e\n",
    "\n",
    "\n",
    "Option B (manual installer):\n",
    "Download from: https://graphviz.gitlab.io/download/\n",
    " → Windows (64-bit MSI) → Install → Add C:\\Program Files\\Graphviz\\bin to PATH.\n",
    "\n",
    "Got it ✅ — thanks for sharing the full traceback.\n",
    "Your error confirms two separate issues:\n",
    "\n",
    "Graphviz dot.exe is still not in PATH → hence FileNotFoundError: \"dot\" not found in path.\n",
    "\n",
    "Your pydot package is old / broken → it doesn’t have InvocationException.\n",
    "\n",
    "We need to fix both.\n",
    "\n",
    "🔧 Step 1: Fix Graphviz (make dot.exe discoverable)\n",
    "\n",
    "Uninstall any broken install:\n",
    "\n",
    "winget uninstall Graphviz.Graphviz\n",
    "\n",
    "\n",
    "Reinstall cleanly (MSI installer is most reliable on Windows):\n",
    "\n",
    "Download from official site: Graphviz Windows installer (x64 MSI)\n",
    "\n",
    "Run installer → during setup, check \"Add Graphviz to the system PATH for all users\".\n",
    "\n",
    "Restart your terminal (PowerShell, Anaconda Prompt, VS Code).\n",
    "\n",
    "Verify:\n",
    "\n",
    "where dot\n",
    "\n",
    "\n",
    "Expected:\n",
    "\n",
    "C:\\Program Files\\Graphviz\\bin\\dot.exe\n",
    "\n",
    "\n",
    "And in Python:\n",
    "\n",
    "import shutil\n",
    "print(shutil.which(\"dot\"))\n",
    "\n",
    "\n",
    "Expected: full path.\n",
    "\n",
    "🔧 Step 2: Fix pydot\n",
    "\n",
    "Your current version doesn’t match Keras’ expectations.\n",
    "Run this in your environment (mycorrectenv):\n",
    "\n",
    "pip uninstall -y pydot pydotplus\n",
    "pip install pydot==1.4.2 pydotplus==2.0.2\n",
    "\n",
    "\n",
    "These versions are stable and tested with TensorFlow/Keras plot_model.\n",
    "\n",
    "🔧 Step 3: Test\n",
    "\n",
    "Run again in Python:\n",
    "\n",
    "from tensorflow.keras.utils import plot_model\n",
    "plot_model(model, show_shapes=True, to_file=\"model.png\")\n",
    "\n",
    "\n",
    "If everything is correct:\n",
    "\n",
    "dot.exe runs successfully,\n",
    "\n",
    "model.png will be saved in your working directory.\n",
    "\n",
    " "
   ]
  },
  {
   "cell_type": "code",
   "execution_count": null,
   "id": "ae142c23-b0dd-461a-8d84-7f1e75322b04",
   "metadata": {},
   "outputs": [],
   "source": []
  }
 ],
 "metadata": {
  "kernelspec": {
   "display_name": "Python 3 (ipykernel)",
   "language": "python",
   "name": "python3"
  },
  "language_info": {
   "codemirror_mode": {
    "name": "ipython",
    "version": 3
   },
   "file_extension": ".py",
   "mimetype": "text/x-python",
   "name": "python",
   "nbconvert_exporter": "python",
   "pygments_lexer": "ipython3",
   "version": "3.10.18"
  }
 },
 "nbformat": 4,
 "nbformat_minor": 5
}
