{
 "cells": [
  {
   "cell_type": "markdown",
   "id": "6614b1b9-8e1b-4372-98ab-81010a847fb1",
   "metadata": {},
   "source": [
    "for large model size netron is very usefull to  study about the model"
   ]
  },
  {
   "cell_type": "code",
   "execution_count": null,
   "id": "4b54522d-5467-4e58-b782-61f456b867af",
   "metadata": {},
   "outputs": [],
   "source": [
    "#tf.constant,tf.variable,tf.placeholder,tf.zeros,tf.truncated_normal,tf.random_normal,linear equation,feed_dict,cost function etc.,"
   ]
  },
  {
   "cell_type": "code",
   "execution_count": 4,
   "id": "b66cdcc7-1158-4260-a529-e42a018fdc01",
   "metadata": {},
   "outputs": [
    {
     "name": "stderr",
     "output_type": "stream",
     "text": [
      "ERROR: Could not find a version that satisfies the requirement tensorflow==1.14 (from versions: 2.8.0rc1, 2.8.0, 2.8.1, 2.8.2, 2.8.3, 2.8.4, 2.9.0rc0, 2.9.0rc1, 2.9.0rc2, 2.9.0, 2.9.1, 2.9.2, 2.9.3, 2.10.0rc0, 2.10.0rc1, 2.10.0rc2, 2.10.0rc3, 2.10.0, 2.10.1, 2.11.0rc0, 2.11.0rc1, 2.11.0rc2, 2.11.0, 2.11.1, 2.12.0rc0, 2.12.0rc1, 2.12.0, 2.12.1, 2.13.0rc0, 2.13.0rc1, 2.13.0rc2, 2.13.0, 2.13.1, 2.14.0rc0, 2.14.0rc1, 2.14.0, 2.14.1, 2.15.0rc0, 2.15.0rc1, 2.15.0, 2.15.1, 2.16.0rc0, 2.16.1, 2.16.2, 2.17.0rc0, 2.17.0rc1, 2.17.0, 2.17.1, 2.18.0rc0, 2.18.0rc1, 2.18.0rc2, 2.18.0, 2.18.1, 2.19.0rc0, 2.19.0, 2.19.1, 2.20.0rc0, 2.20.0)\n",
      "ERROR: No matching distribution found for tensorflow==1.14\n"
     ]
    }
   ],
   "source": [
    "!pip install tensorflow==1.14"
   ]
  },
  {
   "cell_type": "code",
   "execution_count": 2,
   "id": "2941c4e0-96bd-4305-b73b-d5caf66d4867",
   "metadata": {},
   "outputs": [],
   "source": [
    "import tensorflow as tf\n"
   ]
  },
  {
   "cell_type": "code",
   "execution_count": 3,
   "id": "653c1d9c-3883-4df9-a28f-1ce275f03328",
   "metadata": {},
   "outputs": [
    {
     "data": {
      "text/plain": [
       "'2.14.0'"
      ]
     },
     "execution_count": 3,
     "metadata": {},
     "output_type": "execute_result"
    }
   ],
   "source": [
    "tf.__version__"
   ]
  },
  {
   "cell_type": "code",
   "execution_count": 4,
   "id": "81a7f901-2b47-4d81-a39e-5022af0d1ff9",
   "metadata": {},
   "outputs": [
    {
     "data": {
      "text/plain": [
       "<tf.Tensor: shape=(), dtype=string, numpy=b'hello world!'>"
      ]
     },
     "execution_count": 4,
     "metadata": {},
     "output_type": "execute_result"
    }
   ],
   "source": [
    "hello_constant=tf.constant('hello world!')\n",
    "hello_constant"
   ]
  },
  {
   "cell_type": "code",
   "execution_count": 5,
   "id": "95898add-71a1-42af-b814-fb2804e0595a",
   "metadata": {},
   "outputs": [
    {
     "name": "stdout",
     "output_type": "stream",
     "text": [
      "WARNING:tensorflow:From C:\\Users\\Welcome\\anaconda3\\envs\\mycorrectenv\\lib\\site-packages\\tensorflow\\python\\compat\\v2_compat.py:108: disable_resource_variables (from tensorflow.python.ops.variable_scope) is deprecated and will be removed in a future version.\n",
      "Instructions for updating:\n",
      "non-resource variables are not supported in the long term\n",
      "hello world!\n"
     ]
    }
   ],
   "source": [
    "import tensorflow.compat.v1 as tf\n",
    "tf.disable_v2_behavior()\n",
    "\n",
    "hello_constant = tf.constant(\"hello world!\")\n",
    "\n",
    "with tf.Session() as sess:\n",
    "    output = sess.run(hello_constant)\n",
    "    print(output.decode(\"utf-8\"))"
   ]
  },
  {
   "cell_type": "code",
   "execution_count": 6,
   "id": "36d57b15-3c3a-4af1-8052-bc1c5047906e",
   "metadata": {},
   "outputs": [
    {
     "name": "stdout",
     "output_type": "stream",
     "text": [
      "b'hello world!'\n"
     ]
    }
   ],
   "source": [
    "#create tensorflow object called tensor\n",
    "hello_constant=tf.constant('hello world!')\n",
    "with tf.Session() as sess:\n",
    "    #run the tf.constant operation in the session\n",
    "    output=sess.run(hello_constant)\n",
    "    print(output)"
   ]
  },
  {
   "cell_type": "markdown",
   "id": "5702f3e3-14e0-4781-a51b-b2d25226653b",
   "metadata": {},
   "source": [
    "this error is because you are mixing TensorFlow 1.x style code with TensorFlow 2.x.\n",
    "\n",
    "In TF1, we used:\n",
    "\n",
    "with tf.Session() as sess:\n",
    "    output = sess.run(hello_constant)\n",
    "\n",
    "\n",
    "In TF2, eager execution is enabled by default — meaning tensors run immediately, no session is needed.\n",
    "\n",
    "So your code should be:\n",
    "\n",
    "import tensorflow as tf\n",
    "\n",
    "# create a tensor object\n",
    "hello_constant = tf.constant(\"hello world!\")\n",
    "\n",
    "# no session needed in TF2\n",
    "print(hello_constant.numpy().decode(\"utf-8\"))\n",
    "\n",
    "\n",
    "✅ Output:\n",
    "\n",
    "hello world!\n",
    "\n",
    "\n",
    "⚡ Options for you:\n",
    "\n",
    "Stay with TF2 (recommended) → write code without Session().\n",
    "\n",
    "Use TF1 compatibility mode if you want old-style code:\n",
    "\n",
    "import tensorflow.compat.v1 as tf\n",
    "tf.disable_v2_behavior()\n",
    "\n",
    "hello_constant = tf.constant(\"hello world!\")\n",
    "\n",
    "with tf.Session() as sess:\n",
    "    output = sess.run(hello_constant)\n",
    "    print(output.decode(\"utf-8\"))\n"
   ]
  },
  {
   "cell_type": "markdown",
   "id": "c8fc66b9-819d-4f50-9bba-9b85c5f9f848",
   "metadata": {},
   "source": [
    "Key facts:\n",
    "\n",
    "TF 1.14 only works with Python 3.6 (sometimes 3.7).\n",
    "\n",
    "You’re probably on Python 3.9+ (since you see TF 2.8+ available).\n",
    "\n",
    "That’s why pip can’t find tensorflow==1.14 for your setup.\n",
    "\n",
    "✅ You have 3 choices:\n",
    "\n",
    "Option 1 (Recommended): Use TF2 code\n",
    "\n",
    "Convert your TF1-style code (Session(), placeholder, etc.) to TF2 eager mode.\n",
    "Example conversion I showed earlier:\n",
    "\n",
    "import tensorflow as tf\n",
    "\n",
    "hello_constant = tf.constant(\"hello world!\")\n",
    "print(hello_constant.numpy().decode(\"utf-8\"))\n",
    "\n",
    "Option 2: Run TF1.14 in a compatible environment\n",
    "\n",
    "If you really need TensorFlow 1.14, you must:\n",
    "\n",
    "Create a new conda env with Python 3.6:\n",
    "\n",
    "conda create -n tf1 python=3.6\n",
    "conda activate tf1\n",
    "\n",
    "\n",
    "Install TF1.14:\n",
    "\n",
    "pip install tensorflow==1.14\n",
    "\n",
    "Option 3: Use TF1 compatibility mode inside TF2\n",
    "\n",
    "If you don’t want to downgrade Python, just run TF1-style code in TF2:\n",
    "\n",
    "import tensorflow.compat.v1 as tf\n",
    "tf.disable_v2_behavior()\n",
    "\n",
    "hello_constant = tf.constant(\"hello world!\")\n",
    "\n",
    "with tf.Session() as sess:\n",
    "    output = sess.run(hello_constant)\n",
    "    print(output.decode(\"utf-8\"))"
   ]
  },
  {
   "cell_type": "markdown",
   "id": "b9ad8192-7f66-41b7-b68d-080317a7e0fa",
   "metadata": {},
   "source": [
    "data is stored as object called tensor,edge or data"
   ]
  },
  {
   "cell_type": "code",
   "execution_count": 7,
   "id": "3040f51a-96c3-413c-b2a8-d2cbc32d0f7a",
   "metadata": {},
   "outputs": [],
   "source": [
    "# A is a 0-dimensional int32 tensor\n",
    "A = tf.constant(1234)\n",
    "\n",
    "# B is a 1-dimensional int32 tensor\n",
    "B = tf.constant([123,456,789])\n",
    "\n",
    "# C is a 2-dimensional int32 tensor\n",
    "C = tf.constant([[123,456,789],[222,333,444]])\n"
   ]
  },
  {
   "cell_type": "code",
   "execution_count": 9,
   "id": "e5282893-529e-44d5-836e-5bfdaff6f196",
   "metadata": {},
   "outputs": [
    {
     "name": "stdout",
     "output_type": "stream",
     "text": [
      "c:0\n",
      "c_1:0\n",
      "c_2:0\n"
     ]
    }
   ],
   "source": [
    "with tf.Graph().as_default():\n",
    "    c1 = tf.constant(4, dtype=tf.float64, name=\"c\")\n",
    "    c2 = tf.constant(4, dtype=tf.int32, name=\"c\")\n",
    "    c3 = tf.constant(4, dtype=tf.int32, name=\"c\")\n",
    "    print(c1.name)\n",
    "    print(c2.name)\n",
    "    print(c3.name)"
   ]
  },
  {
   "cell_type": "code",
   "execution_count": 10,
   "id": "1c22bce5-ab8a-46f9-b8e0-43c147a935bb",
   "metadata": {},
   "outputs": [
    {
     "name": "stdout",
     "output_type": "stream",
     "text": [
      "c:0\n",
      "prefix_name/c:0\n",
      "prefix_name/c_1:0\n",
      "Tensor(\"c:0\", shape=(), dtype=float64)\n"
     ]
    }
   ],
   "source": [
    "with tf.Graph().as_default():\n",
    "    c1 = tf.constant(4, dtype=tf.float64, name='c')\n",
    "    with tf.name_scope(\"prefix_name\"):\n",
    "        c2 = tf.constant(4, dtype=tf.int32, name='c')\n",
    "        c3 = tf.constant(4, dtype=tf.float64, name='c')\n",
    "    print(c1.name)\n",
    "    print(c2.name)\n",
    "    print(c3.name)\n",
    "    print(c1)\n"
   ]
  },
  {
   "cell_type": "code",
   "execution_count": 11,
   "id": "52b8744b-aec4-4b5c-8c28-e2b74fe6a328",
   "metadata": {},
   "outputs": [
    {
     "data": {
      "text/plain": [
       "array([[123, 456, 789],\n",
       "       [222, 333, 444]])"
      ]
     },
     "execution_count": 11,
     "metadata": {},
     "output_type": "execute_result"
    }
   ],
   "source": [
    "C = tf.constant([[123,456,789], [222,333,444]])\n",
    "sess = tf.Session()\n",
    "sess.run(C)\n"
   ]
  },
  {
   "cell_type": "markdown",
   "id": "fa17bc16-3a41-4e45-8734-d38e807825a5",
   "metadata": {},
   "source": [
    "In TensorFlow 1.x, when you create a tensor inside a with tf.Graph().as_default(): block, that tensor belongs only to that graph.\n",
    "\n",
    "Later, when you open a plain tf.Session(), by default it attaches to the default graph, not the custom graph.\n",
    "\n",
    "So your tensor (c1) doesn’t “belong” to that session’s graph, and TensorFlow raises this error.\n",
    "\n",
    "✅ 3 Ways to Fix\n",
    "Option 1: Keep everything in the same graph\n",
    "import tensorflow.compat.v1 as tf\n",
    "tf.disable_v2_behavior()\n",
    "\n",
    "g = tf.Graph()\n",
    "with g.as_default():\n",
    "    c1 = tf.constant(4.0, dtype=tf.float64, name=\"c\")\n",
    "\n",
    "with tf.Session(graph=g) as sess:\n",
    "    print(sess.run(c1))\n",
    "\n",
    "Option 2: Don’t use a custom graph\n",
    "\n",
    "Just use the default graph:\n",
    "\n",
    "import tensorflow.compat.v1 as tf\n",
    "tf.disable_v2_behavior()\n",
    "\n",
    "c1 = tf.constant(4.0, dtype=tf.float64, name=\"c\")\n",
    "\n",
    "with tf.Session() as sess:\n",
    "    print(sess.run(c1))"
   ]
  },
  {
   "cell_type": "code",
   "execution_count": 16,
   "id": "83e46bc6-2247-43a5-b887-f69259622b70",
   "metadata": {},
   "outputs": [
    {
     "name": "stdout",
     "output_type": "stream",
     "text": [
      "4.0\n"
     ]
    }
   ],
   "source": [
    "import tensorflow.compat.v1 as tf\n",
    "tf.disable_v2_behavior()\n",
    "\n",
    "g = tf.Graph()\n",
    "with g.as_default():\n",
    "    c1 = tf.constant(4.0, dtype=tf.float64, name=\"c\")\n",
    "\n",
    "with tf.Session(graph=g) as sess:\n",
    "    print(sess.run(c1))\n"
   ]
  },
  {
   "cell_type": "code",
   "execution_count": 17,
   "id": "37d425ab-5fe4-44ae-b7cd-3343e3fa66f0",
   "metadata": {},
   "outputs": [
    {
     "name": "stdout",
     "output_type": "stream",
     "text": [
      "4.0\n"
     ]
    }
   ],
   "source": [
    "import tensorflow.compat.v1 as tf\n",
    "tf.disable_v2_behavior()\n",
    "\n",
    "c1 = tf.constant(4.0, dtype=tf.float64, name=\"c\")\n",
    "\n",
    "with tf.Session() as sess:\n",
    "    print(sess.run(c1))\n"
   ]
  },
  {
   "cell_type": "code",
   "execution_count": 18,
   "id": "17425da7-403f-4efd-9358-192202f08436",
   "metadata": {},
   "outputs": [
    {
     "name": "stdout",
     "output_type": "stream",
     "text": [
      "pre run: \n",
      "<tf.Variable 'var:0' shape=(1, 5) dtype=float32_ref>\n",
      "\n",
      "post run \n",
      "[[-0.8237677  -0.06258353 -2.0322533  -0.41873977 -0.22384034]]\n"
     ]
    }
   ],
   "source": [
    "init_val = tf.random_normal([1,5],0,1)\n",
    "var = tf.Variable(init_val, name=\"var\")\n",
    "print(\"pre run: \\n{}\".format(var))\n",
    "init = tf.global_variables_initializer()\n",
    "with tf.Session() as sess:\n",
    "    sess.run(init)\n",
    "    post_var = sess.run(var)\n",
    "    print(\"\\npost run \\n{}\".format(post_var))\n"
   ]
  },
  {
   "cell_type": "code",
   "execution_count": 19,
   "id": "0224ac0e-ab98-48c6-a48c-dfddb56412cd",
   "metadata": {},
   "outputs": [
    {
     "name": "stdout",
     "output_type": "stream",
     "text": [
      "pre run: \n",
      "<tf.Variable 'var_1:0' shape=(1, 5) dtype=float32_ref>\n",
      "\n",
      "post run \n",
      "[[ 0.44501194 -0.9604136  -0.04612495 -0.5894625   0.54562217]]\n"
     ]
    }
   ],
   "source": [
    "init_val = tf.random_normal([1,5],0,1)\n",
    "var = tf.Variable(init_val, name=\"var\")\n",
    "print(\"pre run: \\n{}\".format(var))\n",
    "init = tf.global_variables_initializer()\n",
    "with tf.Session() as sess:\n",
    "    sess.run(init)\n",
    "    post_var = sess.run(var)\n",
    "    print(\"\\npost run \\n{}\".format(post_var))\n",
    "#getting different values if run again"
   ]
  },
  {
   "cell_type": "code",
   "execution_count": 21,
   "id": "9bea1563-aa74-42d8-9bdc-2ff3353b138c",
   "metadata": {},
   "outputs": [
    {
     "ename": "TypeError",
     "evalue": "get_variable() got multiple values for argument 'name'",
     "output_type": "error",
     "traceback": [
      "\u001b[1;31m---------------------------------------------------------------------------\u001b[0m",
      "\u001b[1;31mTypeError\u001b[0m                                 Traceback (most recent call last)",
      "Cell \u001b[1;32mIn[21], line 2\u001b[0m\n\u001b[0;32m      1\u001b[0m init_val \u001b[38;5;241m=\u001b[39m tf\u001b[38;5;241m.\u001b[39mrandom_normal([\u001b[38;5;241m1\u001b[39m,\u001b[38;5;241m5\u001b[39m],\u001b[38;5;241m0\u001b[39m,\u001b[38;5;241m1\u001b[39m)\n\u001b[1;32m----> 2\u001b[0m var \u001b[38;5;241m=\u001b[39m \u001b[43mtf\u001b[49m\u001b[38;5;241;43m.\u001b[39;49m\u001b[43mget_variable\u001b[49m\u001b[43m(\u001b[49m\u001b[43minit_val\u001b[49m\u001b[43m,\u001b[49m\u001b[43m \u001b[49m\u001b[43mname\u001b[49m\u001b[38;5;241;43m=\u001b[39;49m\u001b[38;5;124;43m\"\u001b[39;49m\u001b[38;5;124;43mvar\u001b[39;49m\u001b[38;5;124;43m\"\u001b[39;49m\u001b[43m)\u001b[49m\n\u001b[0;32m      3\u001b[0m \u001b[38;5;28mprint\u001b[39m(\u001b[38;5;124m\"\u001b[39m\u001b[38;5;124mpre run: \u001b[39m\u001b[38;5;130;01m\\n\u001b[39;00m\u001b[38;5;132;01m{}\u001b[39;00m\u001b[38;5;124m\"\u001b[39m\u001b[38;5;241m.\u001b[39mformat(var))\n\u001b[0;32m      4\u001b[0m init \u001b[38;5;241m=\u001b[39m tf\u001b[38;5;241m.\u001b[39mglobal_variables_initializer()\n",
      "\u001b[1;31mTypeError\u001b[0m: get_variable() got multiple values for argument 'name'"
     ]
    }
   ],
   "source": [
    "init_val = tf.random_normal([1,5],0,1)\n",
    "var = tf.get_variable(init_val, name=\"var\")\n",
    "print(\"pre run: \\n{}\".format(var))\n",
    "init = tf.global_variables_initializer()\n",
    "with tf.Session() as sess:\n",
    "    sess.run(init)\n",
    "    post_var = sess.run(var)\n",
    "    print(\"\\npost run \\n{}\".format(post_var))\n",
    "#getting different values if run again\n",
    "#create different input tensors and use get_variables()fn"
   ]
  },
  {
   "cell_type": "code",
   "execution_count": 22,
   "id": "074e3577-e790-4128-a524-cc193358e3bd",
   "metadata": {},
   "outputs": [
    {
     "name": "stdout",
     "output_type": "stream",
     "text": [
      "test\n"
     ]
    }
   ],
   "source": [
    "#tf.placeholder() and feed_dict()\n",
    "x=tf.placeholder(tf.string)\n",
    "with tf.Session() as sess:\n",
    "    output=sess.run(x,feed_dict={x: 'test'})\n",
    "    print(output)\n"
   ]
  },
  {
   "cell_type": "code",
   "execution_count": 23,
   "id": "838196f3-c7a5-4ec3-883d-75761fbb00f4",
   "metadata": {},
   "outputs": [
    {
     "ename": "InvalidArgumentError",
     "evalue": "Graph execution error:\n\nDetected at node 'Placeholder_1' defined at (most recent call last):\n    File \"C:\\Users\\Welcome\\anaconda3\\envs\\mycorrectenv\\lib\\runpy.py\", line 196, in _run_module_as_main\n    File \"C:\\Users\\Welcome\\anaconda3\\envs\\mycorrectenv\\lib\\runpy.py\", line 86, in _run_code\n    File \"C:\\Users\\Welcome\\anaconda3\\envs\\mycorrectenv\\lib\\site-packages\\ipykernel_launcher.py\", line 18, in <module>\n    File \"C:\\Users\\Welcome\\anaconda3\\envs\\mycorrectenv\\lib\\site-packages\\traitlets\\config\\application.py\", line 1075, in launch_instance\n    File \"C:\\Users\\Welcome\\anaconda3\\envs\\mycorrectenv\\lib\\site-packages\\ipykernel\\kernelapp.py\", line 739, in start\n    File \"C:\\Users\\Welcome\\anaconda3\\envs\\mycorrectenv\\lib\\site-packages\\tornado\\platform\\asyncio.py\", line 211, in start\n    File \"C:\\Users\\Welcome\\anaconda3\\envs\\mycorrectenv\\lib\\asyncio\\base_events.py\", line 603, in run_forever\n    File \"C:\\Users\\Welcome\\anaconda3\\envs\\mycorrectenv\\lib\\asyncio\\base_events.py\", line 1909, in _run_once\n    File \"C:\\Users\\Welcome\\anaconda3\\envs\\mycorrectenv\\lib\\asyncio\\events.py\", line 80, in _run\n    File \"C:\\Users\\Welcome\\anaconda3\\envs\\mycorrectenv\\lib\\site-packages\\ipykernel\\kernelbase.py\", line 545, in dispatch_queue\n    File \"C:\\Users\\Welcome\\anaconda3\\envs\\mycorrectenv\\lib\\site-packages\\ipykernel\\kernelbase.py\", line 534, in process_one\n    File \"C:\\Users\\Welcome\\anaconda3\\envs\\mycorrectenv\\lib\\site-packages\\ipykernel\\kernelbase.py\", line 437, in dispatch_shell\n    File \"C:\\Users\\Welcome\\anaconda3\\envs\\mycorrectenv\\lib\\site-packages\\ipykernel\\ipkernel.py\", line 362, in execute_request\n    File \"C:\\Users\\Welcome\\anaconda3\\envs\\mycorrectenv\\lib\\site-packages\\ipykernel\\kernelbase.py\", line 778, in execute_request\n    File \"C:\\Users\\Welcome\\anaconda3\\envs\\mycorrectenv\\lib\\site-packages\\ipykernel\\ipkernel.py\", line 449, in do_execute\n    File \"C:\\Users\\Welcome\\anaconda3\\envs\\mycorrectenv\\lib\\site-packages\\ipykernel\\zmqshell.py\", line 549, in run_cell\n    File \"C:\\Users\\Welcome\\anaconda3\\envs\\mycorrectenv\\lib\\site-packages\\IPython\\core\\interactiveshell.py\", line 3075, in run_cell\n    File \"C:\\Users\\Welcome\\anaconda3\\envs\\mycorrectenv\\lib\\site-packages\\IPython\\core\\interactiveshell.py\", line 3130, in _run_cell\n    File \"C:\\Users\\Welcome\\anaconda3\\envs\\mycorrectenv\\lib\\site-packages\\IPython\\core\\async_helpers.py\", line 128, in _pseudo_sync_runner\n    File \"C:\\Users\\Welcome\\anaconda3\\envs\\mycorrectenv\\lib\\site-packages\\IPython\\core\\interactiveshell.py\", line 3334, in run_cell_async\n    File \"C:\\Users\\Welcome\\anaconda3\\envs\\mycorrectenv\\lib\\site-packages\\IPython\\core\\interactiveshell.py\", line 3517, in run_ast_nodes\n    File \"C:\\Users\\Welcome\\anaconda3\\envs\\mycorrectenv\\lib\\site-packages\\IPython\\core\\interactiveshell.py\", line 3577, in run_code\n    File \"C:\\Users\\Welcome\\AppData\\Local\\Temp\\ipykernel_1372\\1459820489.py\", line 1, in <module>\nNode: 'Placeholder_1'\nYou must feed a value for placeholder tensor 'Placeholder_1' with dtype string\n\t [[{{node Placeholder_1}}]]\n\nOriginal stack trace for 'Placeholder_1':\n  File \"C:\\Users\\Welcome\\anaconda3\\envs\\mycorrectenv\\lib\\runpy.py\", line 196, in _run_module_as_main\n  File \"C:\\Users\\Welcome\\anaconda3\\envs\\mycorrectenv\\lib\\runpy.py\", line 86, in _run_code\n  File \"C:\\Users\\Welcome\\anaconda3\\envs\\mycorrectenv\\lib\\site-packages\\ipykernel_launcher.py\", line 18, in <module>\n  File \"C:\\Users\\Welcome\\anaconda3\\envs\\mycorrectenv\\lib\\site-packages\\traitlets\\config\\application.py\", line 1075, in launch_instance\n  File \"C:\\Users\\Welcome\\anaconda3\\envs\\mycorrectenv\\lib\\site-packages\\ipykernel\\kernelapp.py\", line 739, in start\n  File \"C:\\Users\\Welcome\\anaconda3\\envs\\mycorrectenv\\lib\\site-packages\\tornado\\platform\\asyncio.py\", line 211, in start\n  File \"C:\\Users\\Welcome\\anaconda3\\envs\\mycorrectenv\\lib\\asyncio\\base_events.py\", line 603, in run_forever\n  File \"C:\\Users\\Welcome\\anaconda3\\envs\\mycorrectenv\\lib\\asyncio\\base_events.py\", line 1909, in _run_once\n  File \"C:\\Users\\Welcome\\anaconda3\\envs\\mycorrectenv\\lib\\asyncio\\events.py\", line 80, in _run\n  File \"C:\\Users\\Welcome\\anaconda3\\envs\\mycorrectenv\\lib\\site-packages\\ipykernel\\kernelbase.py\", line 545, in dispatch_queue\n  File \"C:\\Users\\Welcome\\anaconda3\\envs\\mycorrectenv\\lib\\site-packages\\ipykernel\\kernelbase.py\", line 534, in process_one\n  File \"C:\\Users\\Welcome\\anaconda3\\envs\\mycorrectenv\\lib\\site-packages\\ipykernel\\kernelbase.py\", line 437, in dispatch_shell\n  File \"C:\\Users\\Welcome\\anaconda3\\envs\\mycorrectenv\\lib\\site-packages\\ipykernel\\ipkernel.py\", line 362, in execute_request\n  File \"C:\\Users\\Welcome\\anaconda3\\envs\\mycorrectenv\\lib\\site-packages\\ipykernel\\kernelbase.py\", line 778, in execute_request\n  File \"C:\\Users\\Welcome\\anaconda3\\envs\\mycorrectenv\\lib\\site-packages\\ipykernel\\ipkernel.py\", line 449, in do_execute\n  File \"C:\\Users\\Welcome\\anaconda3\\envs\\mycorrectenv\\lib\\site-packages\\ipykernel\\zmqshell.py\", line 549, in run_cell\n  File \"C:\\Users\\Welcome\\anaconda3\\envs\\mycorrectenv\\lib\\site-packages\\IPython\\core\\interactiveshell.py\", line 3075, in run_cell\n  File \"C:\\Users\\Welcome\\anaconda3\\envs\\mycorrectenv\\lib\\site-packages\\IPython\\core\\interactiveshell.py\", line 3130, in _run_cell\n  File \"C:\\Users\\Welcome\\anaconda3\\envs\\mycorrectenv\\lib\\site-packages\\IPython\\core\\async_helpers.py\", line 128, in _pseudo_sync_runner\n  File \"C:\\Users\\Welcome\\anaconda3\\envs\\mycorrectenv\\lib\\site-packages\\IPython\\core\\interactiveshell.py\", line 3334, in run_cell_async\n  File \"C:\\Users\\Welcome\\anaconda3\\envs\\mycorrectenv\\lib\\site-packages\\IPython\\core\\interactiveshell.py\", line 3517, in run_ast_nodes\n  File \"C:\\Users\\Welcome\\anaconda3\\envs\\mycorrectenv\\lib\\site-packages\\IPython\\core\\interactiveshell.py\", line 3577, in run_code\n  File \"C:\\Users\\Welcome\\AppData\\Local\\Temp\\ipykernel_1372\\1459820489.py\", line 1, in <module>\n  File \"C:\\Users\\Welcome\\anaconda3\\envs\\mycorrectenv\\lib\\site-packages\\tensorflow\\python\\ops\\array_ops.py\", line 3283, in placeholder\n  File \"C:\\Users\\Welcome\\anaconda3\\envs\\mycorrectenv\\lib\\site-packages\\tensorflow\\python\\ops\\gen_array_ops.py\", line 8843, in placeholder\n  File \"C:\\Users\\Welcome\\anaconda3\\envs\\mycorrectenv\\lib\\site-packages\\tensorflow\\python\\framework\\op_def_library.py\", line 796, in _apply_op_helper\n  File \"C:\\Users\\Welcome\\anaconda3\\envs\\mycorrectenv\\lib\\site-packages\\tensorflow\\python\\framework\\ops.py\", line 2657, in _create_op_internal\n  File \"C:\\Users\\Welcome\\anaconda3\\envs\\mycorrectenv\\lib\\site-packages\\tensorflow\\python\\framework\\ops.py\", line 1161, in from_node_def\n",
     "output_type": "error",
     "traceback": [
      "\u001b[1;31m---------------------------------------------------------------------------\u001b[0m",
      "\u001b[1;31mInvalidArgumentError\u001b[0m                      Traceback (most recent call last)",
      "File \u001b[1;32m~\\anaconda3\\envs\\mycorrectenv\\lib\\site-packages\\tensorflow\\python\\client\\session.py:1402\u001b[0m, in \u001b[0;36mBaseSession._do_call\u001b[1;34m(self, fn, *args)\u001b[0m\n\u001b[0;32m   1401\u001b[0m \u001b[38;5;28;01mtry\u001b[39;00m:\n\u001b[1;32m-> 1402\u001b[0m   \u001b[38;5;28;01mreturn\u001b[39;00m \u001b[43mfn\u001b[49m\u001b[43m(\u001b[49m\u001b[38;5;241;43m*\u001b[39;49m\u001b[43margs\u001b[49m\u001b[43m)\u001b[49m\n\u001b[0;32m   1403\u001b[0m \u001b[38;5;28;01mexcept\u001b[39;00m errors\u001b[38;5;241m.\u001b[39mOpError \u001b[38;5;28;01mas\u001b[39;00m e:\n",
      "File \u001b[1;32m~\\anaconda3\\envs\\mycorrectenv\\lib\\site-packages\\tensorflow\\python\\client\\session.py:1385\u001b[0m, in \u001b[0;36mBaseSession._do_run.<locals>._run_fn\u001b[1;34m(feed_dict, fetch_list, target_list, options, run_metadata)\u001b[0m\n\u001b[0;32m   1384\u001b[0m \u001b[38;5;28mself\u001b[39m\u001b[38;5;241m.\u001b[39m_extend_graph()\n\u001b[1;32m-> 1385\u001b[0m \u001b[38;5;28;01mreturn\u001b[39;00m \u001b[38;5;28;43mself\u001b[39;49m\u001b[38;5;241;43m.\u001b[39;49m\u001b[43m_call_tf_sessionrun\u001b[49m\u001b[43m(\u001b[49m\u001b[43moptions\u001b[49m\u001b[43m,\u001b[49m\u001b[43m \u001b[49m\u001b[43mfeed_dict\u001b[49m\u001b[43m,\u001b[49m\u001b[43m \u001b[49m\u001b[43mfetch_list\u001b[49m\u001b[43m,\u001b[49m\n\u001b[0;32m   1386\u001b[0m \u001b[43m                                \u001b[49m\u001b[43mtarget_list\u001b[49m\u001b[43m,\u001b[49m\u001b[43m \u001b[49m\u001b[43mrun_metadata\u001b[49m\u001b[43m)\u001b[49m\n",
      "File \u001b[1;32m~\\anaconda3\\envs\\mycorrectenv\\lib\\site-packages\\tensorflow\\python\\client\\session.py:1478\u001b[0m, in \u001b[0;36mBaseSession._call_tf_sessionrun\u001b[1;34m(self, options, feed_dict, fetch_list, target_list, run_metadata)\u001b[0m\n\u001b[0;32m   1476\u001b[0m \u001b[38;5;28;01mdef\u001b[39;00m\u001b[38;5;250m \u001b[39m\u001b[38;5;21m_call_tf_sessionrun\u001b[39m(\u001b[38;5;28mself\u001b[39m, options, feed_dict, fetch_list, target_list,\n\u001b[0;32m   1477\u001b[0m                         run_metadata):\n\u001b[1;32m-> 1478\u001b[0m   \u001b[38;5;28;01mreturn\u001b[39;00m \u001b[43mtf_session\u001b[49m\u001b[38;5;241;43m.\u001b[39;49m\u001b[43mTF_SessionRun_wrapper\u001b[49m\u001b[43m(\u001b[49m\u001b[38;5;28;43mself\u001b[39;49m\u001b[38;5;241;43m.\u001b[39;49m\u001b[43m_session\u001b[49m\u001b[43m,\u001b[49m\u001b[43m \u001b[49m\u001b[43moptions\u001b[49m\u001b[43m,\u001b[49m\u001b[43m \u001b[49m\u001b[43mfeed_dict\u001b[49m\u001b[43m,\u001b[49m\n\u001b[0;32m   1479\u001b[0m \u001b[43m                                          \u001b[49m\u001b[43mfetch_list\u001b[49m\u001b[43m,\u001b[49m\u001b[43m \u001b[49m\u001b[43mtarget_list\u001b[49m\u001b[43m,\u001b[49m\n\u001b[0;32m   1480\u001b[0m \u001b[43m                                          \u001b[49m\u001b[43mrun_metadata\u001b[49m\u001b[43m)\u001b[49m\n",
      "\u001b[1;31mInvalidArgumentError\u001b[0m: You must feed a value for placeholder tensor 'Placeholder_1' with dtype string\n\t [[{{node Placeholder_1}}]]",
      "\nDuring handling of the above exception, another exception occurred:\n",
      "\u001b[1;31mInvalidArgumentError\u001b[0m                      Traceback (most recent call last)",
      "Cell \u001b[1;32mIn[23], line 3\u001b[0m\n\u001b[0;32m      1\u001b[0m x\u001b[38;5;241m=\u001b[39mtf\u001b[38;5;241m.\u001b[39mplaceholder(tf\u001b[38;5;241m.\u001b[39mstring)\n\u001b[0;32m      2\u001b[0m \u001b[38;5;28;01mwith\u001b[39;00m tf\u001b[38;5;241m.\u001b[39mSession() \u001b[38;5;28;01mas\u001b[39;00m sess:\n\u001b[1;32m----> 3\u001b[0m     output\u001b[38;5;241m=\u001b[39m\u001b[43msess\u001b[49m\u001b[38;5;241;43m.\u001b[39;49m\u001b[43mrun\u001b[49m\u001b[43m(\u001b[49m\u001b[43mx\u001b[49m\u001b[43m)\u001b[49m\n\u001b[0;32m      4\u001b[0m     \u001b[38;5;28mprint\u001b[39m(output)\n",
      "File \u001b[1;32m~\\anaconda3\\envs\\mycorrectenv\\lib\\site-packages\\tensorflow\\python\\client\\session.py:972\u001b[0m, in \u001b[0;36mBaseSession.run\u001b[1;34m(self, fetches, feed_dict, options, run_metadata)\u001b[0m\n\u001b[0;32m    969\u001b[0m run_metadata_ptr \u001b[38;5;241m=\u001b[39m tf_session\u001b[38;5;241m.\u001b[39mTF_NewBuffer() \u001b[38;5;28;01mif\u001b[39;00m run_metadata \u001b[38;5;28;01melse\u001b[39;00m \u001b[38;5;28;01mNone\u001b[39;00m\n\u001b[0;32m    971\u001b[0m \u001b[38;5;28;01mtry\u001b[39;00m:\n\u001b[1;32m--> 972\u001b[0m   result \u001b[38;5;241m=\u001b[39m \u001b[38;5;28;43mself\u001b[39;49m\u001b[38;5;241;43m.\u001b[39;49m\u001b[43m_run\u001b[49m\u001b[43m(\u001b[49m\u001b[38;5;28;43;01mNone\u001b[39;49;00m\u001b[43m,\u001b[49m\u001b[43m \u001b[49m\u001b[43mfetches\u001b[49m\u001b[43m,\u001b[49m\u001b[43m \u001b[49m\u001b[43mfeed_dict\u001b[49m\u001b[43m,\u001b[49m\u001b[43m \u001b[49m\u001b[43moptions_ptr\u001b[49m\u001b[43m,\u001b[49m\n\u001b[0;32m    973\u001b[0m \u001b[43m                     \u001b[49m\u001b[43mrun_metadata_ptr\u001b[49m\u001b[43m)\u001b[49m\n\u001b[0;32m    974\u001b[0m   \u001b[38;5;28;01mif\u001b[39;00m run_metadata:\n\u001b[0;32m    975\u001b[0m     proto_data \u001b[38;5;241m=\u001b[39m tf_session\u001b[38;5;241m.\u001b[39mTF_GetBuffer(run_metadata_ptr)\n",
      "File \u001b[1;32m~\\anaconda3\\envs\\mycorrectenv\\lib\\site-packages\\tensorflow\\python\\client\\session.py:1215\u001b[0m, in \u001b[0;36mBaseSession._run\u001b[1;34m(self, handle, fetches, feed_dict, options, run_metadata)\u001b[0m\n\u001b[0;32m   1212\u001b[0m \u001b[38;5;66;03m# We only want to really perform the run if fetches or targets are provided,\u001b[39;00m\n\u001b[0;32m   1213\u001b[0m \u001b[38;5;66;03m# or if the call is a partial run that specifies feeds.\u001b[39;00m\n\u001b[0;32m   1214\u001b[0m \u001b[38;5;28;01mif\u001b[39;00m final_fetches \u001b[38;5;129;01mor\u001b[39;00m final_targets \u001b[38;5;129;01mor\u001b[39;00m (handle \u001b[38;5;129;01mand\u001b[39;00m feed_dict_tensor):\n\u001b[1;32m-> 1215\u001b[0m   results \u001b[38;5;241m=\u001b[39m \u001b[38;5;28;43mself\u001b[39;49m\u001b[38;5;241;43m.\u001b[39;49m\u001b[43m_do_run\u001b[49m\u001b[43m(\u001b[49m\u001b[43mhandle\u001b[49m\u001b[43m,\u001b[49m\u001b[43m \u001b[49m\u001b[43mfinal_targets\u001b[49m\u001b[43m,\u001b[49m\u001b[43m \u001b[49m\u001b[43mfinal_fetches\u001b[49m\u001b[43m,\u001b[49m\n\u001b[0;32m   1216\u001b[0m \u001b[43m                         \u001b[49m\u001b[43mfeed_dict_tensor\u001b[49m\u001b[43m,\u001b[49m\u001b[43m \u001b[49m\u001b[43moptions\u001b[49m\u001b[43m,\u001b[49m\u001b[43m \u001b[49m\u001b[43mrun_metadata\u001b[49m\u001b[43m)\u001b[49m\n\u001b[0;32m   1217\u001b[0m \u001b[38;5;28;01melse\u001b[39;00m:\n\u001b[0;32m   1218\u001b[0m   results \u001b[38;5;241m=\u001b[39m []\n",
      "File \u001b[1;32m~\\anaconda3\\envs\\mycorrectenv\\lib\\site-packages\\tensorflow\\python\\client\\session.py:1395\u001b[0m, in \u001b[0;36mBaseSession._do_run\u001b[1;34m(self, handle, target_list, fetch_list, feed_dict, options, run_metadata)\u001b[0m\n\u001b[0;32m   1392\u001b[0m   \u001b[38;5;28;01mreturn\u001b[39;00m \u001b[38;5;28mself\u001b[39m\u001b[38;5;241m.\u001b[39m_call_tf_sessionprun(handle, feed_dict, fetch_list)\n\u001b[0;32m   1394\u001b[0m \u001b[38;5;28;01mif\u001b[39;00m handle \u001b[38;5;129;01mis\u001b[39;00m \u001b[38;5;28;01mNone\u001b[39;00m:\n\u001b[1;32m-> 1395\u001b[0m   \u001b[38;5;28;01mreturn\u001b[39;00m \u001b[38;5;28;43mself\u001b[39;49m\u001b[38;5;241;43m.\u001b[39;49m\u001b[43m_do_call\u001b[49m\u001b[43m(\u001b[49m\u001b[43m_run_fn\u001b[49m\u001b[43m,\u001b[49m\u001b[43m \u001b[49m\u001b[43mfeeds\u001b[49m\u001b[43m,\u001b[49m\u001b[43m \u001b[49m\u001b[43mfetches\u001b[49m\u001b[43m,\u001b[49m\u001b[43m \u001b[49m\u001b[43mtargets\u001b[49m\u001b[43m,\u001b[49m\u001b[43m \u001b[49m\u001b[43moptions\u001b[49m\u001b[43m,\u001b[49m\n\u001b[0;32m   1396\u001b[0m \u001b[43m                       \u001b[49m\u001b[43mrun_metadata\u001b[49m\u001b[43m)\u001b[49m\n\u001b[0;32m   1397\u001b[0m \u001b[38;5;28;01melse\u001b[39;00m:\n\u001b[0;32m   1398\u001b[0m   \u001b[38;5;28;01mreturn\u001b[39;00m \u001b[38;5;28mself\u001b[39m\u001b[38;5;241m.\u001b[39m_do_call(_prun_fn, handle, feeds, fetches)\n",
      "File \u001b[1;32m~\\anaconda3\\envs\\mycorrectenv\\lib\\site-packages\\tensorflow\\python\\client\\session.py:1421\u001b[0m, in \u001b[0;36mBaseSession._do_call\u001b[1;34m(self, fn, *args)\u001b[0m\n\u001b[0;32m   1416\u001b[0m \u001b[38;5;28;01mif\u001b[39;00m \u001b[38;5;124m'\u001b[39m\u001b[38;5;124monly supports NHWC tensor format\u001b[39m\u001b[38;5;124m'\u001b[39m \u001b[38;5;129;01min\u001b[39;00m message:\n\u001b[0;32m   1417\u001b[0m   message \u001b[38;5;241m+\u001b[39m\u001b[38;5;241m=\u001b[39m (\u001b[38;5;124m'\u001b[39m\u001b[38;5;130;01m\\n\u001b[39;00m\u001b[38;5;124mA possible workaround: Try disabling Grappler optimizer\u001b[39m\u001b[38;5;124m'\u001b[39m\n\u001b[0;32m   1418\u001b[0m               \u001b[38;5;124m'\u001b[39m\u001b[38;5;130;01m\\n\u001b[39;00m\u001b[38;5;124mby modifying the config for creating the session eg.\u001b[39m\u001b[38;5;124m'\u001b[39m\n\u001b[0;32m   1419\u001b[0m               \u001b[38;5;124m'\u001b[39m\u001b[38;5;130;01m\\n\u001b[39;00m\u001b[38;5;124msession_config.graph_options.rewrite_options.\u001b[39m\u001b[38;5;124m'\u001b[39m\n\u001b[0;32m   1420\u001b[0m               \u001b[38;5;124m'\u001b[39m\u001b[38;5;124mdisable_meta_optimizer = True\u001b[39m\u001b[38;5;124m'\u001b[39m)\n\u001b[1;32m-> 1421\u001b[0m \u001b[38;5;28;01mraise\u001b[39;00m \u001b[38;5;28mtype\u001b[39m(e)(node_def, op, message)\n",
      "\u001b[1;31mInvalidArgumentError\u001b[0m: Graph execution error:\n\nDetected at node 'Placeholder_1' defined at (most recent call last):\n    File \"C:\\Users\\Welcome\\anaconda3\\envs\\mycorrectenv\\lib\\runpy.py\", line 196, in _run_module_as_main\n    File \"C:\\Users\\Welcome\\anaconda3\\envs\\mycorrectenv\\lib\\runpy.py\", line 86, in _run_code\n    File \"C:\\Users\\Welcome\\anaconda3\\envs\\mycorrectenv\\lib\\site-packages\\ipykernel_launcher.py\", line 18, in <module>\n    File \"C:\\Users\\Welcome\\anaconda3\\envs\\mycorrectenv\\lib\\site-packages\\traitlets\\config\\application.py\", line 1075, in launch_instance\n    File \"C:\\Users\\Welcome\\anaconda3\\envs\\mycorrectenv\\lib\\site-packages\\ipykernel\\kernelapp.py\", line 739, in start\n    File \"C:\\Users\\Welcome\\anaconda3\\envs\\mycorrectenv\\lib\\site-packages\\tornado\\platform\\asyncio.py\", line 211, in start\n    File \"C:\\Users\\Welcome\\anaconda3\\envs\\mycorrectenv\\lib\\asyncio\\base_events.py\", line 603, in run_forever\n    File \"C:\\Users\\Welcome\\anaconda3\\envs\\mycorrectenv\\lib\\asyncio\\base_events.py\", line 1909, in _run_once\n    File \"C:\\Users\\Welcome\\anaconda3\\envs\\mycorrectenv\\lib\\asyncio\\events.py\", line 80, in _run\n    File \"C:\\Users\\Welcome\\anaconda3\\envs\\mycorrectenv\\lib\\site-packages\\ipykernel\\kernelbase.py\", line 545, in dispatch_queue\n    File \"C:\\Users\\Welcome\\anaconda3\\envs\\mycorrectenv\\lib\\site-packages\\ipykernel\\kernelbase.py\", line 534, in process_one\n    File \"C:\\Users\\Welcome\\anaconda3\\envs\\mycorrectenv\\lib\\site-packages\\ipykernel\\kernelbase.py\", line 437, in dispatch_shell\n    File \"C:\\Users\\Welcome\\anaconda3\\envs\\mycorrectenv\\lib\\site-packages\\ipykernel\\ipkernel.py\", line 362, in execute_request\n    File \"C:\\Users\\Welcome\\anaconda3\\envs\\mycorrectenv\\lib\\site-packages\\ipykernel\\kernelbase.py\", line 778, in execute_request\n    File \"C:\\Users\\Welcome\\anaconda3\\envs\\mycorrectenv\\lib\\site-packages\\ipykernel\\ipkernel.py\", line 449, in do_execute\n    File \"C:\\Users\\Welcome\\anaconda3\\envs\\mycorrectenv\\lib\\site-packages\\ipykernel\\zmqshell.py\", line 549, in run_cell\n    File \"C:\\Users\\Welcome\\anaconda3\\envs\\mycorrectenv\\lib\\site-packages\\IPython\\core\\interactiveshell.py\", line 3075, in run_cell\n    File \"C:\\Users\\Welcome\\anaconda3\\envs\\mycorrectenv\\lib\\site-packages\\IPython\\core\\interactiveshell.py\", line 3130, in _run_cell\n    File \"C:\\Users\\Welcome\\anaconda3\\envs\\mycorrectenv\\lib\\site-packages\\IPython\\core\\async_helpers.py\", line 128, in _pseudo_sync_runner\n    File \"C:\\Users\\Welcome\\anaconda3\\envs\\mycorrectenv\\lib\\site-packages\\IPython\\core\\interactiveshell.py\", line 3334, in run_cell_async\n    File \"C:\\Users\\Welcome\\anaconda3\\envs\\mycorrectenv\\lib\\site-packages\\IPython\\core\\interactiveshell.py\", line 3517, in run_ast_nodes\n    File \"C:\\Users\\Welcome\\anaconda3\\envs\\mycorrectenv\\lib\\site-packages\\IPython\\core\\interactiveshell.py\", line 3577, in run_code\n    File \"C:\\Users\\Welcome\\AppData\\Local\\Temp\\ipykernel_1372\\1459820489.py\", line 1, in <module>\nNode: 'Placeholder_1'\nYou must feed a value for placeholder tensor 'Placeholder_1' with dtype string\n\t [[{{node Placeholder_1}}]]\n\nOriginal stack trace for 'Placeholder_1':\n  File \"C:\\Users\\Welcome\\anaconda3\\envs\\mycorrectenv\\lib\\runpy.py\", line 196, in _run_module_as_main\n  File \"C:\\Users\\Welcome\\anaconda3\\envs\\mycorrectenv\\lib\\runpy.py\", line 86, in _run_code\n  File \"C:\\Users\\Welcome\\anaconda3\\envs\\mycorrectenv\\lib\\site-packages\\ipykernel_launcher.py\", line 18, in <module>\n  File \"C:\\Users\\Welcome\\anaconda3\\envs\\mycorrectenv\\lib\\site-packages\\traitlets\\config\\application.py\", line 1075, in launch_instance\n  File \"C:\\Users\\Welcome\\anaconda3\\envs\\mycorrectenv\\lib\\site-packages\\ipykernel\\kernelapp.py\", line 739, in start\n  File \"C:\\Users\\Welcome\\anaconda3\\envs\\mycorrectenv\\lib\\site-packages\\tornado\\platform\\asyncio.py\", line 211, in start\n  File \"C:\\Users\\Welcome\\anaconda3\\envs\\mycorrectenv\\lib\\asyncio\\base_events.py\", line 603, in run_forever\n  File \"C:\\Users\\Welcome\\anaconda3\\envs\\mycorrectenv\\lib\\asyncio\\base_events.py\", line 1909, in _run_once\n  File \"C:\\Users\\Welcome\\anaconda3\\envs\\mycorrectenv\\lib\\asyncio\\events.py\", line 80, in _run\n  File \"C:\\Users\\Welcome\\anaconda3\\envs\\mycorrectenv\\lib\\site-packages\\ipykernel\\kernelbase.py\", line 545, in dispatch_queue\n  File \"C:\\Users\\Welcome\\anaconda3\\envs\\mycorrectenv\\lib\\site-packages\\ipykernel\\kernelbase.py\", line 534, in process_one\n  File \"C:\\Users\\Welcome\\anaconda3\\envs\\mycorrectenv\\lib\\site-packages\\ipykernel\\kernelbase.py\", line 437, in dispatch_shell\n  File \"C:\\Users\\Welcome\\anaconda3\\envs\\mycorrectenv\\lib\\site-packages\\ipykernel\\ipkernel.py\", line 362, in execute_request\n  File \"C:\\Users\\Welcome\\anaconda3\\envs\\mycorrectenv\\lib\\site-packages\\ipykernel\\kernelbase.py\", line 778, in execute_request\n  File \"C:\\Users\\Welcome\\anaconda3\\envs\\mycorrectenv\\lib\\site-packages\\ipykernel\\ipkernel.py\", line 449, in do_execute\n  File \"C:\\Users\\Welcome\\anaconda3\\envs\\mycorrectenv\\lib\\site-packages\\ipykernel\\zmqshell.py\", line 549, in run_cell\n  File \"C:\\Users\\Welcome\\anaconda3\\envs\\mycorrectenv\\lib\\site-packages\\IPython\\core\\interactiveshell.py\", line 3075, in run_cell\n  File \"C:\\Users\\Welcome\\anaconda3\\envs\\mycorrectenv\\lib\\site-packages\\IPython\\core\\interactiveshell.py\", line 3130, in _run_cell\n  File \"C:\\Users\\Welcome\\anaconda3\\envs\\mycorrectenv\\lib\\site-packages\\IPython\\core\\async_helpers.py\", line 128, in _pseudo_sync_runner\n  File \"C:\\Users\\Welcome\\anaconda3\\envs\\mycorrectenv\\lib\\site-packages\\IPython\\core\\interactiveshell.py\", line 3334, in run_cell_async\n  File \"C:\\Users\\Welcome\\anaconda3\\envs\\mycorrectenv\\lib\\site-packages\\IPython\\core\\interactiveshell.py\", line 3517, in run_ast_nodes\n  File \"C:\\Users\\Welcome\\anaconda3\\envs\\mycorrectenv\\lib\\site-packages\\IPython\\core\\interactiveshell.py\", line 3577, in run_code\n  File \"C:\\Users\\Welcome\\AppData\\Local\\Temp\\ipykernel_1372\\1459820489.py\", line 1, in <module>\n  File \"C:\\Users\\Welcome\\anaconda3\\envs\\mycorrectenv\\lib\\site-packages\\tensorflow\\python\\ops\\array_ops.py\", line 3283, in placeholder\n  File \"C:\\Users\\Welcome\\anaconda3\\envs\\mycorrectenv\\lib\\site-packages\\tensorflow\\python\\ops\\gen_array_ops.py\", line 8843, in placeholder\n  File \"C:\\Users\\Welcome\\anaconda3\\envs\\mycorrectenv\\lib\\site-packages\\tensorflow\\python\\framework\\op_def_library.py\", line 796, in _apply_op_helper\n  File \"C:\\Users\\Welcome\\anaconda3\\envs\\mycorrectenv\\lib\\site-packages\\tensorflow\\python\\framework\\ops.py\", line 2657, in _create_op_internal\n  File \"C:\\Users\\Welcome\\anaconda3\\envs\\mycorrectenv\\lib\\site-packages\\tensorflow\\python\\framework\\ops.py\", line 1161, in from_node_def\n"
     ]
    }
   ],
   "source": [
    "x=tf.placeholder(tf.string)\n",
    "with tf.Session() as sess:\n",
    "    output=sess.run(x)#should give dictionary feed tensors necessarily\n",
    "    print(output)"
   ]
  },
  {
   "cell_type": "code",
   "execution_count": 25,
   "id": "87f4ef5a-6c22-4633-aafe-2e136f5caf9f",
   "metadata": {},
   "outputs": [
    {
     "name": "stdout",
     "output_type": "stream",
     "text": [
      "Test String\n",
      "123\n"
     ]
    }
   ],
   "source": [
    "x=tf.placeholder(tf.string)\n",
    "y=tf.placeholder(tf.int32)\n",
    "z=tf.placeholder(tf.float32)\n",
    "\n",
    "with tf.Session() as sess:\n",
    "    output_x=sess.run(x,feed_dict={x: 'Test String',  y:123,   z:45.67})\n",
    "    output_y=sess.run(y,feed_dict={x: 'Test String',  y:123,   z:45.67})\n",
    "    print(output_x)\n",
    "    print(output_y)"
   ]
  },
  {
   "cell_type": "code",
   "execution_count": 27,
   "id": "e6a2ffd6-337e-4a10-97a2-152c51978cc3",
   "metadata": {},
   "outputs": [
    {
     "data": {
      "text/plain": [
       "<tf.Tensor 'mul:0' shape=() dtype=float32>"
      ]
     },
     "execution_count": 27,
     "metadata": {},
     "output_type": "execute_result"
    }
   ],
   "source": [
    "'''A Session object encapsulates the environment in which Operation\n",
    "objects are executed, and Tensor objects are evaluated. '''\n",
    "\n",
    "# Build a graph.\n",
    "a = tf.constant(5.0)\n",
    "b = tf.constant(6.0)\n",
    "c = a * b\n",
    "c"
   ]
  },
  {
   "cell_type": "code",
   "execution_count": 28,
   "id": "ef30754f-1231-443e-b9e1-9124da52a0cd",
   "metadata": {},
   "outputs": [
    {
     "name": "stdout",
     "output_type": "stream",
     "text": [
      "[1. 4. 9.]\n"
     ]
    },
    {
     "data": {
      "text/plain": [
       "'Note: If the data passed to the feed dict doesn’t match the tensor type and\\nshape, it will raise an error.'"
      ]
     },
     "execution_count": 28,
     "metadata": {},
     "output_type": "execute_result"
    }
   ],
   "source": [
    "x = tf.placeholder(\"float\", None)\n",
    "y = x ** 2\n",
    "\n",
    "with tf.Session() as session:\n",
    "    result = session.run(y, feed_dict={x: [1., 2., 3.]})\n",
    "    print(result)\n",
    "\n",
    "\n",
    "'''Note: If the data passed to the feed dict doesn’t match the tensor type and\n",
    "shape, it will raise an error.'''"
   ]
  },
  {
   "cell_type": "code",
   "execution_count": 29,
   "id": "f7833b85-1910-4d84-90a1-c3343fbec7e7",
   "metadata": {},
   "outputs": [
    {
     "name": "stdout",
     "output_type": "stream",
     "text": [
      "7\n"
     ]
    }
   ],
   "source": [
    "x=tf.add(5,2)\n",
    "with tf.Session() as sess:\n",
    "    output=sess.run(x)\n",
    "    print(output)"
   ]
  },
  {
   "cell_type": "code",
   "execution_count": 30,
   "id": "3fe41476-c89a-457a-a71f-440b85f3cb4f",
   "metadata": {},
   "outputs": [],
   "source": [
    "x=tf.subtract(10,4)\n",
    "y=tf.multiply(2,5)"
   ]
  },
  {
   "cell_type": "code",
   "execution_count": 31,
   "id": "b27751db-6cd0-4c22-81e0-b14d19886e93",
   "metadata": {},
   "outputs": [
    {
     "data": {
      "text/plain": [
       "<tf.Tensor 'Mul_1:0' shape=() dtype=int32>"
      ]
     },
     "execution_count": 31,
     "metadata": {},
     "output_type": "execute_result"
    }
   ],
   "source": [
    "x\n",
    "y"
   ]
  },
  {
   "cell_type": "code",
   "execution_count": 32,
   "id": "351e43cc-65dc-4a5c-8e4a-fe900c886262",
   "metadata": {},
   "outputs": [
    {
     "data": {
      "text/plain": [
       "6"
      ]
     },
     "execution_count": 32,
     "metadata": {},
     "output_type": "execute_result"
    }
   ],
   "source": [
    "sess = tf.Session()\n",
    "sess.run(x)"
   ]
  },
  {
   "cell_type": "code",
   "execution_count": 33,
   "id": "e2487a51-4fca-47c0-825c-32644ab66ba5",
   "metadata": {},
   "outputs": [
    {
     "data": {
      "text/plain": [
       "10"
      ]
     },
     "execution_count": 33,
     "metadata": {},
     "output_type": "execute_result"
    }
   ],
   "source": [
    "sess = tf.Session()\n",
    "sess.run(y)"
   ]
  },
  {
   "cell_type": "code",
   "execution_count": 34,
   "id": "9092007f-9483-4db6-b86f-4165cbf84811",
   "metadata": {},
   "outputs": [
    {
     "ename": "TypeError",
     "evalue": "Input 'y' of 'Sub' Op has type int32 that does not match type float32 of argument 'x'.",
     "output_type": "error",
     "traceback": [
      "\u001b[1;31m---------------------------------------------------------------------------\u001b[0m",
      "\u001b[1;31mTypeError\u001b[0m                                 Traceback (most recent call last)",
      "Cell \u001b[1;32mIn[34], line 2\u001b[0m\n\u001b[0;32m      1\u001b[0m \u001b[38;5;66;03m#if data types doesnt match it gives error\u001b[39;00m\n\u001b[1;32m----> 2\u001b[0m \u001b[43mtf\u001b[49m\u001b[38;5;241;43m.\u001b[39;49m\u001b[43msubtract\u001b[49m\u001b[43m(\u001b[49m\u001b[43mtf\u001b[49m\u001b[38;5;241;43m.\u001b[39;49m\u001b[43mconstant\u001b[49m\u001b[43m(\u001b[49m\u001b[38;5;241;43m2.0\u001b[39;49m\u001b[43m)\u001b[49m\u001b[43m,\u001b[49m\u001b[43mtf\u001b[49m\u001b[38;5;241;43m.\u001b[39;49m\u001b[43mconstant\u001b[49m\u001b[43m(\u001b[49m\u001b[38;5;241;43m1\u001b[39;49m\u001b[43m)\u001b[49m\u001b[43m)\u001b[49m\n",
      "File \u001b[1;32m~\\anaconda3\\envs\\mycorrectenv\\lib\\site-packages\\tensorflow\\python\\util\\traceback_utils.py:153\u001b[0m, in \u001b[0;36mfilter_traceback.<locals>.error_handler\u001b[1;34m(*args, **kwargs)\u001b[0m\n\u001b[0;32m    151\u001b[0m \u001b[38;5;28;01mexcept\u001b[39;00m \u001b[38;5;167;01mException\u001b[39;00m \u001b[38;5;28;01mas\u001b[39;00m e:\n\u001b[0;32m    152\u001b[0m   filtered_tb \u001b[38;5;241m=\u001b[39m _process_traceback_frames(e\u001b[38;5;241m.\u001b[39m__traceback__)\n\u001b[1;32m--> 153\u001b[0m   \u001b[38;5;28;01mraise\u001b[39;00m e\u001b[38;5;241m.\u001b[39mwith_traceback(filtered_tb) \u001b[38;5;28;01mfrom\u001b[39;00m\u001b[38;5;250m \u001b[39m\u001b[38;5;28;01mNone\u001b[39;00m\n\u001b[0;32m    154\u001b[0m \u001b[38;5;28;01mfinally\u001b[39;00m:\n\u001b[0;32m    155\u001b[0m   \u001b[38;5;28;01mdel\u001b[39;00m filtered_tb\n",
      "File \u001b[1;32m~\\anaconda3\\envs\\mycorrectenv\\lib\\site-packages\\tensorflow\\python\\framework\\op_def_library.py:589\u001b[0m, in \u001b[0;36m_ExtractInputsAndAttrs\u001b[1;34m(op_type_name, op_def, allowed_list_attr_map, keywords, default_type_attr_map, attrs, inputs, input_types)\u001b[0m\n\u001b[0;32m    586\u001b[0m         \u001b[38;5;28;01mif\u001b[39;00m k \u001b[38;5;129;01mnot\u001b[39;00m \u001b[38;5;129;01min\u001b[39;00m inferred_from:\n\u001b[0;32m    587\u001b[0m           inferred_from[k] \u001b[38;5;241m=\u001b[39m \u001b[38;5;124m\"\u001b[39m\u001b[38;5;124mDefault in OpDef\u001b[39m\u001b[38;5;124m\"\u001b[39m\n\u001b[1;32m--> 589\u001b[0m     \u001b[38;5;28;01mraise\u001b[39;00m \u001b[38;5;167;01mTypeError\u001b[39;00m(\n\u001b[0;32m    590\u001b[0m         \u001b[38;5;124mf\u001b[39m\u001b[38;5;124m\"\u001b[39m\u001b[38;5;132;01m{\u001b[39;00mprefix\u001b[38;5;132;01m}\u001b[39;00m\u001b[38;5;124m type \u001b[39m\u001b[38;5;124m\"\u001b[39m\n\u001b[0;32m    591\u001b[0m         \u001b[38;5;124mf\u001b[39m\u001b[38;5;124m\"\u001b[39m\u001b[38;5;132;01m{\u001b[39;00mdtypes\u001b[38;5;241m.\u001b[39mas_dtype(attrs[input_arg\u001b[38;5;241m.\u001b[39mtype_attr])\u001b[38;5;241m.\u001b[39mname\u001b[38;5;132;01m}\u001b[39;00m\u001b[38;5;124m of \u001b[39m\u001b[38;5;124m\"\u001b[39m\n\u001b[0;32m    592\u001b[0m         \u001b[38;5;124mf\u001b[39m\u001b[38;5;124m\"\u001b[39m\u001b[38;5;124margument \u001b[39m\u001b[38;5;124m'\u001b[39m\u001b[38;5;132;01m{\u001b[39;00minferred_from[input_arg\u001b[38;5;241m.\u001b[39mtype_attr]\u001b[38;5;132;01m}\u001b[39;00m\u001b[38;5;124m'\u001b[39m\u001b[38;5;124m.\u001b[39m\u001b[38;5;124m\"\u001b[39m)\n\u001b[0;32m    594\u001b[0m types \u001b[38;5;241m=\u001b[39m [values\u001b[38;5;241m.\u001b[39mdtype]\n\u001b[0;32m    595\u001b[0m inputs\u001b[38;5;241m.\u001b[39mappend(values)\n",
      "\u001b[1;31mTypeError\u001b[0m: Input 'y' of 'Sub' Op has type int32 that does not match type float32 of argument 'x'."
     ]
    }
   ],
   "source": [
    "#if data types doesnt match it gives error\n",
    "tf.subtract(tf.constant(2.0),tf.constant(1))"
   ]
  },
  {
   "cell_type": "code",
   "execution_count": 35,
   "id": "160b58ed-1df7-490d-af35-fc5491822ab5",
   "metadata": {},
   "outputs": [
    {
     "name": "stdout",
     "output_type": "stream",
     "text": [
      "4.0\n"
     ]
    }
   ],
   "source": [
    "x=tf.constant(10)\n",
    "y=tf.constant(2)\n",
    "z=tf.subtract(tf.divide(x,y),1)\n",
    "\n",
    "with tf.Session() as sess:\n",
    "    output=sess.run(z)\n",
    "    print(output)"
   ]
  },
  {
   "cell_type": "markdown",
   "id": "471e5696-d991-412a-a5de-fcd981bdf429",
   "metadata": {},
   "source": [
    "#define linear equation function with tensorflow\n"
   ]
  },
  {
   "cell_type": "code",
   "execution_count": 36,
   "id": "3854f105-1d05-42be-98ef-ff1bfe498435",
   "metadata": {},
   "outputs": [
    {
     "data": {
      "text/plain": [
       "<tf.Variable 'Variable:0' shape=(120, 5) dtype=float32_ref>"
      ]
     },
     "execution_count": 36,
     "metadata": {},
     "output_type": "execute_result"
    }
   ],
   "source": [
    "#define linear equation function with tensorflow\n",
    "\n",
    "n_features=120\n",
    "n_labels=5\n",
    "\n",
    "weights = tf.Variable(tf.truncated_normal([n_features, n_labels]))\n",
    "weights"
   ]
  },
  {
   "cell_type": "code",
   "execution_count": 38,
   "id": "50f3958f-540f-4413-aad5-3f4aae0357f0",
   "metadata": {},
   "outputs": [],
   "source": [
    "n_labels=5\n",
    "\n",
    "bias = tf.Variable(tf.zeros(n_labels))"
   ]
  },
  {
   "cell_type": "markdown",
   "id": "779560f3-cda4-479f-8eb8-8b9bfccffc64",
   "metadata": {},
   "source": [
    "using feed_dict"
   ]
  },
  {
   "cell_type": "code",
   "execution_count": 39,
   "id": "8255bb7e-fe98-43a8-aec7-0ffcfd7d5c85",
   "metadata": {},
   "outputs": [
    {
     "ename": "AttributeError",
     "evalue": "module 'tensorflow' has no attribute 'placeholder'",
     "output_type": "error",
     "traceback": [
      "\u001b[1;31m---------------------------------------------------------------------------\u001b[0m",
      "\u001b[1;31mAttributeError\u001b[0m                            Traceback (most recent call last)",
      "Cell \u001b[1;32mIn[39], line 8\u001b[0m\n\u001b[0;32m      5\u001b[0m c \u001b[38;5;241m=\u001b[39m a \u001b[38;5;241m*\u001b[39m b\n\u001b[0;32m      7\u001b[0m \u001b[38;5;66;03m# Define placeholder\u001b[39;00m\n\u001b[1;32m----> 8\u001b[0m x \u001b[38;5;241m=\u001b[39m \u001b[43mtf\u001b[49m\u001b[38;5;241;43m.\u001b[39;49m\u001b[43mplaceholder\u001b[49m(tf\u001b[38;5;241m.\u001b[39mfloat32)\n\u001b[0;32m     10\u001b[0m \u001b[38;5;66;03m# Replace value of a with x using feed_dict\u001b[39;00m\n\u001b[0;32m     11\u001b[0m \u001b[38;5;28;01mwith\u001b[39;00m tf\u001b[38;5;241m.\u001b[39mSession() \u001b[38;5;28;01mas\u001b[39;00m session:\n",
      "\u001b[1;31mAttributeError\u001b[0m: module 'tensorflow' has no attribute 'placeholder'"
     ]
    }
   ],
   "source": [
    "import tensorflow as tf\n",
    "\n",
    "a = tf.constant(3)\n",
    "b = tf.constant(4)\n",
    "c = a * b\n",
    "\n",
    "# Define placeholder\n",
    "x = tf.placeholder(tf.float32)\n",
    "\n",
    "# Replace value of a with x using feed_dict\n",
    "with tf.Session() as session:\n",
    "    result = session.run(c, feed_dict={a: x})\n",
    "    print(result)\n"
   ]
  },
  {
   "cell_type": "markdown",
   "id": "cdba17bb-e15c-4bb3-a41f-58ffc04da475",
   "metadata": {},
   "source": [
    "You're using TensorFlow 2.x, but the code in your notes is written for TensorFlow 1.x.\n",
    "\n",
    "In TensorFlow 2.x:\n",
    "\n",
    "tf.placeholder() and tf.Session() do not exist anymore because TF2 runs in eager execution mode by default.\n",
    "\n",
    "feed_dict is also not used the same way.\n",
    "\n",
    "🔧 How to Fix It\n",
    "\n",
    "If you still want to use old TF1-style code in TF2, you must enable compatibility mode:\n",
    "\n",
    "import tensorflow.compat.v1 as tf\n",
    "tf.disable_v2_behavior()\n",
    "\n",
    "a = tf.constant(3)\n",
    "b = tf.constant(4)\n",
    "c = a * b\n",
    "\n",
    "# Define placeholder (works in compat mode)\n",
    "x = tf.placeholder(tf.float32)\n",
    "\n",
    "with tf.Session() as session:\n",
    "    result = session.run(c, feed_dict={a: 5})\n",
    "    print(result)\n",
    "\n",
    "✅ Modern TensorFlow 2.x way (without placeholders/sessions)\n",
    "\n",
    "In TF2, you would instead just use eager execution directly:\n",
    "\n",
    "import tensorflow as tf\n",
    "\n",
    "a = tf.constant(3)\n",
    "b = tf.constant(4)\n",
    "c = a * b\n",
    "\n",
    "print(c.numpy())  # Output: 12\n",
    "\n",
    "\n",
    "If you want the effect of placeholders, you use tf.function + function arguments:\n",
    "\n",
    "import tensorflow as tf\n",
    "\n",
    "@tf.function\n",
    "def multiply(a, b):\n",
    "    return a * b\n",
    "\n",
    "print(multiply(3, 4).numpy())  # Output: 12"
   ]
  },
  {
   "cell_type": "code",
   "execution_count": 40,
   "id": "402d8cfe-b7fa-4d72-9242-b1ff6e9e9117",
   "metadata": {},
   "outputs": [
    {
     "name": "stdout",
     "output_type": "stream",
     "text": [
      "20\n"
     ]
    }
   ],
   "source": [
    "import tensorflow.compat.v1 as tf\n",
    "tf.disable_v2_behavior()\n",
    "\n",
    "a = tf.constant(3)\n",
    "b = tf.constant(4)\n",
    "c = a * b\n",
    "\n",
    "# Define placeholder (works in compat mode)\n",
    "x = tf.placeholder(tf.float32)\n",
    "\n",
    "with tf.Session() as session:\n",
    "    result = session.run(c, feed_dict={a: 5})\n",
    "    print(result)\n"
   ]
  },
  {
   "cell_type": "code",
   "execution_count": 43,
   "id": "1af7225d-bceb-4859-9144-cb1d83dca4a8",
   "metadata": {},
   "outputs": [
    {
     "name": "stdout",
     "output_type": "stream",
     "text": [
      "12\n",
      "20\n"
     ]
    }
   ],
   "source": [
    "import tensorflow.compat.v1 as tf\n",
    "tf.disable_v2_behavior()\n",
    "\n",
    "# Define placeholder instead of constant so we can feed values\n",
    "a = tf.placeholder(tf.int32)\n",
    "b = tf.constant(4)\n",
    "\n",
    "c = a * b\n",
    "\n",
    "with tf.Session() as session:\n",
    "    # First run: a = 3\n",
    "    result1 = session.run(c, feed_dict={a: 3})\n",
    "    print(result1)   # Output: 12\n",
    "\n",
    "    # Second run: a = 5\n",
    "    result2 = session.run(c, feed_dict={a: 5})\n",
    "    print(result2)   # Output: 20\n"
   ]
  },
  {
   "cell_type": "code",
   "execution_count": 44,
   "id": "794f8f20-81b7-4cd6-b477-b440a6306a14",
   "metadata": {},
   "outputs": [
    {
     "name": "stdout",
     "output_type": "stream",
     "text": [
      "20\n"
     ]
    }
   ],
   "source": [
    "import tensorflow.compat.v1 as tf\n",
    "tf.disable_v2_behavior()\n",
    "\n",
    "a = tf.constant(3)\n",
    "b = tf.constant(4)\n",
    "c = a * b\n",
    "\n",
    "# Define placeholder (works in compat mode)\n",
    "x = tf.placeholder(tf.float32)\n",
    "\n",
    "with tf.Session() as session:\n",
    "    result = session.run(c, feed_dict={a: 5})\n",
    "    print(result)\n"
   ]
  },
  {
   "cell_type": "code",
   "execution_count": 46,
   "id": "cb141043-2e43-4701-a0aa-3439a862df65",
   "metadata": {},
   "outputs": [
    {
     "name": "stdout",
     "output_type": "stream",
     "text": [
      "12\n"
     ]
    }
   ],
   "source": [
    "import tensorflow.compat.v1 as tf\n",
    "tf.disable_v2_behavior()\n",
    "\n",
    "# Define placeholders\n",
    "a = tf.placeholder(tf.int32)\n",
    "b = tf.constant(4)\n",
    "\n",
    "c = a * b\n",
    "\n",
    "with tf.Session() as session:\n",
    "    result = session.run(c, feed_dict={a: 3})  # a = 3\n",
    "    print(result)  # Output: 12\n"
   ]
  },
  {
   "cell_type": "code",
   "execution_count": 50,
   "id": "70f57209-9b01-4d09-8c3e-f780f55e7d10",
   "metadata": {},
   "outputs": [
    {
     "ename": "TypeError",
     "evalue": "The value of a feed cannot be a tf.Tensor object. Acceptable feed values include Python scalars, strings, lists, numpy ndarrays, or TensorHandles. For reference, the tensor object was Tensor(\"Placeholder_13:0\", dtype=int32) which was passed to the argument `feed_dict` with key Tensor(\"Const_29:0\", shape=(), dtype=int32).",
     "output_type": "error",
     "traceback": [
      "\u001b[1;31m---------------------------------------------------------------------------\u001b[0m",
      "\u001b[1;31mTypeError\u001b[0m                                 Traceback (most recent call last)",
      "Cell \u001b[1;32mIn[50], line 14\u001b[0m\n\u001b[0;32m     12\u001b[0m \u001b[38;5;66;03m# Replace value of a with x using feed_dict\u001b[39;00m\n\u001b[0;32m     13\u001b[0m \u001b[38;5;28;01mwith\u001b[39;00m tf\u001b[38;5;241m.\u001b[39mSession() \u001b[38;5;28;01mas\u001b[39;00m session:\n\u001b[1;32m---> 14\u001b[0m     result \u001b[38;5;241m=\u001b[39m \u001b[43msession\u001b[49m\u001b[38;5;241;43m.\u001b[39;49m\u001b[43mrun\u001b[49m\u001b[43m(\u001b[49m\u001b[43mc\u001b[49m\u001b[43m,\u001b[49m\u001b[43m \u001b[49m\u001b[43mfeed_dict\u001b[49m\u001b[38;5;241;43m=\u001b[39;49m\u001b[43m{\u001b[49m\u001b[43ma\u001b[49m\u001b[43m:\u001b[49m\u001b[43m \u001b[49m\u001b[43mx\u001b[49m\u001b[43m}\u001b[49m\u001b[43m)\u001b[49m\n\u001b[0;32m     15\u001b[0m     \u001b[38;5;28mprint\u001b[39m(result)\n",
      "File \u001b[1;32m~\\anaconda3\\envs\\mycorrectenv\\lib\\site-packages\\tensorflow\\python\\client\\session.py:972\u001b[0m, in \u001b[0;36mBaseSession.run\u001b[1;34m(self, fetches, feed_dict, options, run_metadata)\u001b[0m\n\u001b[0;32m    969\u001b[0m run_metadata_ptr \u001b[38;5;241m=\u001b[39m tf_session\u001b[38;5;241m.\u001b[39mTF_NewBuffer() \u001b[38;5;28;01mif\u001b[39;00m run_metadata \u001b[38;5;28;01melse\u001b[39;00m \u001b[38;5;28;01mNone\u001b[39;00m\n\u001b[0;32m    971\u001b[0m \u001b[38;5;28;01mtry\u001b[39;00m:\n\u001b[1;32m--> 972\u001b[0m   result \u001b[38;5;241m=\u001b[39m \u001b[38;5;28;43mself\u001b[39;49m\u001b[38;5;241;43m.\u001b[39;49m\u001b[43m_run\u001b[49m\u001b[43m(\u001b[49m\u001b[38;5;28;43;01mNone\u001b[39;49;00m\u001b[43m,\u001b[49m\u001b[43m \u001b[49m\u001b[43mfetches\u001b[49m\u001b[43m,\u001b[49m\u001b[43m \u001b[49m\u001b[43mfeed_dict\u001b[49m\u001b[43m,\u001b[49m\u001b[43m \u001b[49m\u001b[43moptions_ptr\u001b[49m\u001b[43m,\u001b[49m\n\u001b[0;32m    973\u001b[0m \u001b[43m                     \u001b[49m\u001b[43mrun_metadata_ptr\u001b[49m\u001b[43m)\u001b[49m\n\u001b[0;32m    974\u001b[0m   \u001b[38;5;28;01mif\u001b[39;00m run_metadata:\n\u001b[0;32m    975\u001b[0m     proto_data \u001b[38;5;241m=\u001b[39m tf_session\u001b[38;5;241m.\u001b[39mTF_GetBuffer(run_metadata_ptr)\n",
      "File \u001b[1;32m~\\anaconda3\\envs\\mycorrectenv\\lib\\site-packages\\tensorflow\\python\\client\\session.py:1163\u001b[0m, in \u001b[0;36mBaseSession._run\u001b[1;34m(self, handle, fetches, feed_dict, options, run_metadata)\u001b[0m\n\u001b[0;32m   1159\u001b[0m   \u001b[38;5;28;01mraise\u001b[39;00m \u001b[38;5;167;01mTypeError\u001b[39;00m(\n\u001b[0;32m   1160\u001b[0m       \u001b[38;5;124mf\u001b[39m\u001b[38;5;124m'\u001b[39m\u001b[38;5;124mCannot interpret feed_dict key as Tensor: \u001b[39m\u001b[38;5;132;01m{\u001b[39;00me\u001b[38;5;241m.\u001b[39margs[\u001b[38;5;241m0\u001b[39m]\u001b[38;5;132;01m}\u001b[39;00m\u001b[38;5;124m'\u001b[39m)\n\u001b[0;32m   1162\u001b[0m \u001b[38;5;28;01mif\u001b[39;00m \u001b[38;5;28misinstance\u001b[39m(subfeed_val, tensor\u001b[38;5;241m.\u001b[39mTensor):\n\u001b[1;32m-> 1163\u001b[0m   \u001b[38;5;28;01mraise\u001b[39;00m \u001b[38;5;167;01mTypeError\u001b[39;00m(\n\u001b[0;32m   1164\u001b[0m       \u001b[38;5;124m'\u001b[39m\u001b[38;5;124mThe value of a feed cannot be a tf.Tensor object. Acceptable \u001b[39m\u001b[38;5;124m'\u001b[39m\n\u001b[0;32m   1165\u001b[0m       \u001b[38;5;124m'\u001b[39m\u001b[38;5;124mfeed values include Python scalars, strings, lists, numpy \u001b[39m\u001b[38;5;124m'\u001b[39m\n\u001b[0;32m   1166\u001b[0m       \u001b[38;5;124m'\u001b[39m\u001b[38;5;124mndarrays, or TensorHandles. For reference, the tensor object \u001b[39m\u001b[38;5;124m'\u001b[39m\n\u001b[0;32m   1167\u001b[0m       \u001b[38;5;124mf\u001b[39m\u001b[38;5;124m'\u001b[39m\u001b[38;5;124mwas \u001b[39m\u001b[38;5;132;01m{\u001b[39;00m\u001b[38;5;28mstr\u001b[39m(feed_val)\u001b[38;5;132;01m}\u001b[39;00m\u001b[38;5;124m which was passed to the argument \u001b[39m\u001b[38;5;124m'\u001b[39m\n\u001b[0;32m   1168\u001b[0m       \u001b[38;5;124mf\u001b[39m\u001b[38;5;124m'\u001b[39m\u001b[38;5;124m`feed_dict` with key \u001b[39m\u001b[38;5;132;01m{\u001b[39;00m\u001b[38;5;28mstr\u001b[39m(feed)\u001b[38;5;132;01m}\u001b[39;00m\u001b[38;5;124m.\u001b[39m\u001b[38;5;124m'\u001b[39m)\n\u001b[0;32m   1170\u001b[0m subfeed_dtype \u001b[38;5;241m=\u001b[39m subfeed_t\u001b[38;5;241m.\u001b[39mdtype\u001b[38;5;241m.\u001b[39mas_numpy_dtype\n\u001b[0;32m   1171\u001b[0m \u001b[38;5;28;01mif\u001b[39;00m \u001b[38;5;28misinstance\u001b[39m(subfeed_val, \u001b[38;5;28mint\u001b[39m) \u001b[38;5;129;01mand\u001b[39;00m _convert_to_numpy_obj(\n\u001b[0;32m   1172\u001b[0m     subfeed_dtype, subfeed_val) \u001b[38;5;241m!=\u001b[39m subfeed_val:\n",
      "\u001b[1;31mTypeError\u001b[0m: The value of a feed cannot be a tf.Tensor object. Acceptable feed values include Python scalars, strings, lists, numpy ndarrays, or TensorHandles. For reference, the tensor object was Tensor(\"Placeholder_13:0\", dtype=int32) which was passed to the argument `feed_dict` with key Tensor(\"Const_29:0\", shape=(), dtype=int32)."
     ]
    }
   ],
   "source": [
    "import tensorflow.compat.v1 as tf\n",
    "tf.disable_v2_behavior()\n",
    "\n",
    "\n",
    "a = tf.constant(3)\n",
    "b = tf.constant(4)\n",
    "c = a * b\n",
    "\n",
    "# Define placeholder\n",
    "x = tf.placeholder(tf.int32)\n",
    "\n",
    "# Replace value of a with x using feed_dict\n",
    "with tf.Session() as session:\n",
    "    result = session.run(c, feed_dict={a: x})\n",
    "    print(result)\n"
   ]
  },
  {
   "cell_type": "code",
   "execution_count": 53,
   "id": "02e48767-8a7e-49f3-a1f5-12dd46687d6f",
   "metadata": {},
   "outputs": [
    {
     "name": "stdout",
     "output_type": "stream",
     "text": [
      "45\n"
     ]
    }
   ],
   "source": [
    "import tensorflow.compat.v1 as tf\n",
    "tf.disable_v2_behavior()\n",
    "\n",
    "# Create Operations, Tensors, etc (using the default graph)\n",
    "a = tf.add(2, 5)\n",
    "b = tf.multiply(a, 3)\n",
    "\n",
    "# Start up a 'Session' using the default graph\n",
    "sess = tf.Session()\n",
    "\n",
    "# Define a dictionary that says to replace the value of 'a' with 15\n",
    "replace_dict = {a: 15}\n",
    "\n",
    "# Run the session, passing in 'replace_dict' as the value to 'feed_dict'\n",
    "output = sess.run(b, feed_dict=replace_dict)\n",
    "\n",
    "print(output)\n"
   ]
  },
  {
   "cell_type": "markdown",
   "id": "5856a686-2da3-4521-8c3d-c5a906bd1703",
   "metadata": {},
   "source": [
    "create Tensrflow softmax activation function using tensorflow"
   ]
  },
  {
   "cell_type": "code",
   "execution_count": 55,
   "id": "8e6f4a75-0a82-4207-b143-005a2ee15048",
   "metadata": {},
   "outputs": [
    {
     "name": "stdout",
     "output_type": "stream",
     "text": [
      "[0.         0.33333334 0.33333334 0.         0.33333334 0.        ]\n"
     ]
    }
   ],
   "source": [
    "import tensorflow.compat.v1 as tf\n",
    "tf.disable_v2_behavior()\n",
    "\n",
    "\n",
    "def run_2():\n",
    "\n",
    "    output = None\n",
    "    logit_data = [19,354,354,45,354,54]\n",
    "    logits = tf.placeholder(tf.float32)\n",
    "    # Calculate the softmax of the logits\n",
    "    softmax = tf.nn.softmax(logits)\n",
    "\n",
    "    with tf.Session() as sess:\n",
    "        # Feed in the logit data\n",
    "        output = sess.run(softmax, feed_dict={logits: logit_data})\n",
    "    return output\n",
    "\n",
    "print(run_2())"
   ]
  },
  {
   "cell_type": "markdown",
   "id": "6fcdaa89-02d9-4e33-a666-34fe97170f30",
   "metadata": {},
   "source": [
    "create cross entropy using loss function"
   ]
  },
  {
   "cell_type": "code",
   "execution_count": 56,
   "id": "ff2ca87d-6112-4ec4-92e4-c4f5b0781ff9",
   "metadata": {},
   "outputs": [
    {
     "name": "stdout",
     "output_type": "stream",
     "text": [
      "0.35667497\n"
     ]
    }
   ],
   "source": [
    "#Cross-Entropy Code Example\n",
    "import tensorflow.compat.v1 as tf\n",
    "tf.disable_v2_behavior()\n",
    "\n",
    "softmax_data = [0.7, 0.2, 0.1]\n",
    "one_hot_data = [1.0, 0.0, 0.0]\n",
    "\n",
    "softmax = tf.placeholder(tf.float32)\n",
    "one_hot = tf.placeholder(tf.float32)\n",
    "\n",
    "# Print cross entropy from session\n",
    "cross_entropy = -tf.reduce_sum(tf.multiply(one_hot, tf.log(softmax)))\n",
    "\n",
    "with tf.Session() as session:\n",
    "     output = session.run(cross_entropy, feed_dict={one_hot: one_hot_data, softmax: softmax_data})\n",
    "     print(output)\n",
    "\n"
   ]
  },
  {
   "cell_type": "code",
   "execution_count": null,
   "id": "6a677b09-b185-4ef3-8e0a-f1897427d202",
   "metadata": {},
   "outputs": [],
   "source": []
  }
 ],
 "metadata": {
  "kernelspec": {
   "display_name": "Python 3 (ipykernel)",
   "language": "python",
   "name": "python3"
  },
  "language_info": {
   "codemirror_mode": {
    "name": "ipython",
    "version": 3
   },
   "file_extension": ".py",
   "mimetype": "text/x-python",
   "name": "python",
   "nbconvert_exporter": "python",
   "pygments_lexer": "ipython3",
   "version": "3.10.18"
  }
 },
 "nbformat": 4,
 "nbformat_minor": 5
}
